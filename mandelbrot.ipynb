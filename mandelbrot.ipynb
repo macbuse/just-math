{
 "cells": [
  {
   "cell_type": "code",
   "execution_count": 1,
   "metadata": {},
   "outputs": [],
   "source": [
    "import matplotlib.pyplot as plt\n",
    "import numpy as np "
   ]
  },
  {
   "cell_type": "code",
   "execution_count": 6,
   "metadata": {},
   "outputs": [],
   "source": [
    "npts = 100\n",
    "max_iter = 20\n",
    "\n",
    "xs = np.linspace(-2,1,2*npts)\n",
    "ys = np.linspace(-1,1, npts)\n",
    "\n",
    "C = xs[:, None] + 1J*ys\n",
    "Z = np.zeros_like(C)\n",
    "exit_times = max_iter* np.ones(C.shape, np.int32)\n",
    "\n",
    "mask = new_mask = exit_times > 0\n"
   ]
  },
  {
   "cell_type": "code",
   "execution_count": 7,
   "metadata": {},
   "outputs": [],
   "source": [
    "for k in range(max_iter):\n",
    "    exit_times[mask ^ new_mask] = k\n",
    "    Z[mask] = Z[mask] * Z[mask] + C[mask]\n",
    "    new_mask, mask = abs(Z) < 5, new_mask\n",
    "    "
   ]
  },
  {
   "cell_type": "code",
   "execution_count": 11,
   "metadata": {},
   "outputs": [
    {
     "data": {
      "text/plain": [
       "<matplotlib.image.AxesImage at 0x7febeba6ea90>"
      ]
     },
     "execution_count": 11,
     "metadata": {},
     "output_type": "execute_result"
    },
    {
     "data": {
      "image/png": "[encoded data removed]",
      "text/plain": [
       "<Figure size 432x288 with 1 Axes>"
      ]
     },
     "metadata": {},
     "output_type": "display_data"
    }
   ],
   "source": [
    "image = np.stack((exit_times,exit_times, exit_times)).T\n",
    "image = 1 - image/max_iter\n",
    "image.shape\n",
    "plt.imshow(image)"
   ]
  },
  {
   "cell_type": "code",
   "execution_count": null,
   "metadata": {},
   "outputs": [],
   "source": []
  }
 ],
 "metadata": {
  "kernelspec": {
   "display_name": "Python 3",
   "language": "python",
   "name": "python3"
  },
  "language_info": {
   "codemirror_mode": {
    "name": "ipython",
    "version": 3
   },
   "file_extension": ".py",
   "mimetype": "text/x-python",
   "name": "python",
   "nbconvert_exporter": "python",
   "pygments_lexer": "ipython3",
   "version": "3.6.5"
  }
 },
 "nbformat": 4,
 "nbformat_minor": 2
}
