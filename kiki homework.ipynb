{
 "cells": [
  {
   "cell_type": "markdown",
   "metadata": {},
   "source": [
    "## Homework\n",
    "\n",
    "I came across my kid's homework which was some kind of simulation\n",
    "to calculate the probability that a random walk of length 10 didn't leave $[-2,2]$. \n",
    "\n",
    "The code was so ugly, an affront to [the Zen of Python](https://www.python.org/dev/peps/pep-0020/),\n",
    "that I immediately scribbled all over it in red ink.\n",
    "\n",
    "\n",
    "This is my final code"
   ]
  },
  {
   "cell_type": "code",
   "execution_count": 343,
   "metadata": {},
   "outputs": [
    {
     "name": "stdout",
     "output_type": "stream",
     "text": [
      "137835\n",
      "CPU times: user 447 ms, sys: 189 ms, total: 635 ms\n",
      "Wall time: 722 ms\n"
     ]
    }
   ],
   "source": [
    "%%time\n",
    "import numpy as np\n",
    "\n",
    "batch_size = 10**6\n",
    "walk_length = 10\n",
    "#make a random matrix and center the values\n",
    "M = np.random.randint(3, size=(batch_size, walk_length))\n",
    "M -= np.ones_like(M)\n",
    "\n",
    "#make an upper triangular matrix and calculate postions\n",
    "UT = np.triu(np.ones((10,10)))\n",
    "positions = np.dot(M,UT)\n",
    "\n",
    "#calculate fancy indexing and use fancy indexing to finish\n",
    "max_dist_to_0  = np.abs(positions).max(axis=1)\n",
    "print len(max_dist_to_0[ max_dist_to_0 < 2])"
   ]
  },
  {
   "cell_type": "markdown",
   "metadata": {},
   "source": [
    "###  My first version\n",
    "\n",
    "- tidied up the while loop\n",
    "- use and in statement instead of repeated comparisons\n",
    "- the += operator here and there\n",
    "\n",
    "For me this still looks like someone that does Java/C++."
   ]
  },
  {
   "cell_type": "code",
   "execution_count": 335,
   "metadata": {},
   "outputs": [
    {
     "name": "stdout",
     "output_type": "stream",
     "text": [
      "0.137696\n",
      "CPU times: user 17.6 s, sys: 90.3 ms, total: 17.7 s\n",
      "Wall time: 17.7 s\n"
     ]
    }
   ],
   "source": [
    "%%time\n",
    "from random import randint\n",
    "\n",
    "def une_marche():\n",
    "    x = y = 0\n",
    "    while  -1 <= x <= 1 and y < 10:\n",
    "        a = randint(-1,1)\n",
    "        x += a\n",
    "        y += 1\n",
    "    if x in [-2,2]:\n",
    "        return 0\n",
    "    else:\n",
    "        return 1\n",
    "    \n",
    "T = 0\n",
    "num_tries = 10**6\n",
    "for k in xrange(num_tries):\n",
    "    T += une_marche()\n",
    "print float(T)/num_tries    "
   ]
  },
  {
   "cell_type": "markdown",
   "metadata": {},
   "source": [
    "## Second version\n",
    "\n",
    "This is somewhat simpler and uses standard Python idioms\n",
    "\n",
    "- for break else  statement\n",
    "- list comprehension [ x for x in list]\n",
    "- the += operator\n",
    "\n",
    "It runs marginally faster than the original\n"
   ]
  },
  {
   "cell_type": "code",
   "execution_count": 334,
   "metadata": {},
   "outputs": [
    {
     "name": "stdout",
     "output_type": "stream",
     "text": [
      "0.13756\n",
      "CPU times: user 1.73 s, sys: 26.9 ms, total: 1.76 s\n",
      "Wall time: 1.75 s\n"
     ]
    }
   ],
   "source": [
    "%%time\n",
    "def une_marche2():\n",
    "    x = 0\n",
    "    for y in range(10): \n",
    "        x += randint(-1,1)\n",
    "        if not( -1 <= x <= 1): break\n",
    "    else:\n",
    "        return 1\n",
    "    return 0\n",
    "  \n",
    "num_tries = 10**5\n",
    "tries = [une_marche2() for k in xrange(num_tries)]\n",
    "    \n",
    "print float(sum(tries))/num_tries"
   ]
  },
  {
   "cell_type": "markdown",
   "metadata": {},
   "source": [
    "## The final version\n",
    "\n",
    "This is basically about vectorisation and matrix multiplication.\n",
    "\n",
    "Just dotting with a vector of ones doesn't work\n",
    "because the walk can break out of $[-1,1]$ and get back in again.\n",
    "So we use an upper triangular matrix to calculate a running total \n",
    "of the position deltas.\n",
    "\n",
    "- I don't really care about memory usage\n",
    "- this is definitely not for les tapettes\n",
    "- finally optimisation of counting solutions is tricky\n",
    "\n",
    "### Optimisation\n",
    "\n",
    "Finally I found this which is kind of obvious as an afterthought\n",
    "https://stackoverflow.com/questions/36267936/normalizing-rows-of-a-matrix-python\n",
    "\n",
    "\n",
    "CPU times: user 411 ms, sys: 84.4 ms, total: 495 ms\n",
    "\n",
    "This compares very favorably with my first version\n",
    "running on 10**6 :\n",
    "\n",
    "CPU times: user 17.6 s"
   ]
  },
  {
   "cell_type": "code",
   "execution_count": 321,
   "metadata": {},
   "outputs": [
    {
     "name": "stdout",
     "output_type": "stream",
     "text": [
      "137831\n",
      "CPU times: user 411 ms, sys: 84.4 ms, total: 495 ms\n",
      "Wall time: 384 ms\n"
     ]
    }
   ],
   "source": [
    "%%time\n",
    "import numpy as np\n",
    "\n",
    "n = 10**6\n",
    "M = np.random.randint(3, size=(n,10 ))\n",
    "M -= np.ones_like(M)\n",
    "\n",
    "Y = np.triu(np.ones((10,10)))\n",
    "walks = np.dot(M,Y)\n",
    "\n",
    "#this is a bit fecked but I don't see how \n",
    "#to easily vectorize this\n",
    "#CPU times: user 3.71 s, sys: 229 ms, total: 3.94 s\n",
    "#bounds = np.array([max(abs(x)) for x in walks])\n",
    "#len(bounds[bounds < 2])\n",
    "\n",
    "#this didn't work - twise as long on 10**6\n",
    "#CPU times: user 440 ms, sys: 86.5 ms, total: 527 ms\n",
    "lengths = np.abs(walks).max(axis=1)\n",
    "print len(lengths[lengths < 2])\n",
    "\n"
   ]
  }
 ],
 "metadata": {
  "kernelspec": {
   "display_name": "Python 2",
   "language": "python",
   "name": "python2"
  },
  "language_info": {
   "codemirror_mode": {
    "name": "ipython",
    "version": 2
   },
   "file_extension": ".py",
   "mimetype": "text/x-python",
   "name": "python",
   "nbconvert_exporter": "python",
   "pygments_lexer": "ipython2",
   "version": "2.7.13"
  }
 },
 "nbformat": 4,
 "nbformat_minor": 2
}
