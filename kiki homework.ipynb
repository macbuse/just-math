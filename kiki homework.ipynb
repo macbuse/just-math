{
 "cells": [
  {
   "cell_type": "markdown",
   "metadata": {},
   "source": [
    "## Homework\n",
    "\n",
    "I came across my kid's homework which was some kind of simulation\n",
    "to calculate the probability that a random walk of length 10 didn't leave $[-2,2]$. \n",
    "\n",
    "I calculated the value that we should get in the limit  by taking the 10th power of the transition matrix for the Markov process \n",
    "- it is 1 - 0.86250402 = 0.13749598\n",
    "\n",
    "The code was so ugly, an affront to [the Zen of Python](https://www.python.org/dev/peps/pep-0020/),\n",
    "that I immediately scribbled all over it in red ink.\n",
    "\n",
    "\n",
    "This is my final code: \n",
    "\n",
    "- 8 LOC as opposed to 18. There is a linebreak in the call to np.random.randint because I hate code that goes too far to the right.\n",
    "- I used **numpy** to vectorize and this makes things harder to follow but you can't knock a 40x speed gain \n",
    "- there is a mathematical trick in L12 to calculate a running tally using an upper triangular matrix. Tricks are **bad** but that's vectorisation for you.\n",
    "\n"
   ]
  },
  {
   "cell_type": "code",
   "execution_count": 479,
   "metadata": {},
   "outputs": [
    {
     "ename": "SyntaxError",
     "evalue": "invalid syntax (<unknown>, line 19)",
     "output_type": "error",
     "traceback": [
      "\u001b[0;36m  File \u001b[0;32m\"<unknown>\"\u001b[0;36m, line \u001b[0;32m19\u001b[0m\n\u001b[0;31m    print positions[,10:,]\u001b[0m\n\u001b[0m                    ^\u001b[0m\n\u001b[0;31mSyntaxError\u001b[0m\u001b[0;31m:\u001b[0m invalid syntax\n"
     ]
    }
   ],
   "source": [
    "%%time\n",
    "import numpy as np\n",
    "\n",
    "batch_size = 10**5\n",
    "walk_length = 10\n",
    "#make a random matrix and with values in -1,0,1\n",
    "path_deltas = np.random.randint(-1, high=2, \n",
    "                                size=(batch_size, walk_length))\n",
    "\n",
    "#make an upper triangular matrix and calculate postions\n",
    "UT = np.triu(np.ones((10,10)))\n",
    "positions = np.dot(path_deltas,UT)\n",
    "\n",
    "#calculate fancy indexing and use fancy indexing to finish\n",
    "max_dist_to_0 = np.abs(positions).max(axis=1)\n",
    "print 'total', len(max_dist_to_0[ max_dist_to_0 < 2])\n",
    "\n",
    "dists_to_0 = np.abs(positions[-1,:])\n",
    "print 'dist', np.sum(dists_to_0)/batch_size"
   ]
  },
  {
   "cell_type": "markdown",
   "metadata": {},
   "source": [
    "## Original code\n",
    "\n",
    "This was the original code in the homework.\n",
    "Actually it didn't respect spacing conventions \n",
    "but that's another story.\n",
    "\n",
    "It's 18 LOC if we don't count the first 3.\n",
    "\n",
    "It looks all wrong \n",
    "- a **while** where the maximal number of loops is known\n",
    "- the mere fact that \n",
    "it sets a variable **t**  instead of using\n",
    "multiple **returns**..."
   ]
  },
  {
   "cell_type": "code",
   "execution_count": 412,
   "metadata": {},
   "outputs": [
    {
     "name": "stdout",
     "output_type": "stream",
     "text": [
      "0.13776\n",
      "CPU times: user 1.81 s, sys: 17.9 ms, total: 1.83 s\n",
      "Wall time: 1.83 s\n"
     ]
    }
   ],
   "source": [
    "%%time\n",
    "from random import randint\n",
    "\n",
    "def une_marche():\n",
    "    x = 0\n",
    "    y = 0\n",
    "    while  -1 <= x and x <= 1 and y < 10:\n",
    "        a = randint(-1,1)\n",
    "        x = x + a\n",
    "        y = y + 1\n",
    "        \n",
    "    if x == -2 or x == 2:\n",
    "        t = 0\n",
    "    else:\n",
    "        t = 1     \n",
    "    return t\n",
    "    \n",
    "T = 0\n",
    "num_tries = 10**5\n",
    "for k in xrange(num_tries):\n",
    "    T = T + une_marche()\n",
    "print float(T)/num_tries  "
   ]
  },
  {
   "cell_type": "markdown",
   "metadata": {},
   "source": [
    "###  My first version\n",
    "\n",
    "- tidied up the while loop\n",
    "- use and in statement instead of repeated comparisons\n",
    "- the += operator here and there\n",
    "\n",
    "For me this still looks like someone that does Java/C++."
   ]
  },
  {
   "cell_type": "code",
   "execution_count": 415,
   "metadata": {},
   "outputs": [
    {
     "name": "stdout",
     "output_type": "stream",
     "text": [
      "0.13597\n",
      "CPU times: user 1.9 s, sys: 18.1 ms, total: 1.91 s\n",
      "Wall time: 1.93 s\n"
     ]
    }
   ],
   "source": [
    "%%time\n",
    "from random import randint\n",
    "\n",
    "def une_marche():\n",
    "    x = y = 0\n",
    "    while  -1 <= x <= 1 and y < 10:\n",
    "        a = randint(-1,1)\n",
    "        x += a\n",
    "        y += 1\n",
    "    if x in [-2,2]:\n",
    "        return 0\n",
    "    else:\n",
    "        return 1\n",
    "    \n",
    "T = 0\n",
    "num_tries = 10**5\n",
    "for k in xrange(num_tries):\n",
    "    T += une_marche()\n",
    "print float(T)/num_tries    "
   ]
  },
  {
   "cell_type": "markdown",
   "metadata": {},
   "source": [
    "## Second version\n",
    "\n",
    "A somewhat simpler and uses standard Python idioms.\n",
    "\n",
    "- for  statement\n",
    "- list comprehension [ x for x in list]\n",
    "- the += operator\n",
    "- the sum builtin \n",
    "- the condition is abs(x) > 1\n",
    "\n",
    "It's 10 LOC - so nearly 40% less lines less.\n",
    "\n",
    "It runs about as fast as my first attempt \n",
    "but was marginally faster \n",
    "- with -1 <= x <= 1 \n",
    "- instead of abs(x) > 1"
   ]
  },
  {
   "cell_type": "code",
   "execution_count": 471,
   "metadata": {},
   "outputs": [
    {
     "name": "stdout",
     "output_type": "stream",
     "text": [
      "0.13741\n",
      "CPU times: user 1.7 s, sys: 24.8 ms, total: 1.72 s\n",
      "Wall time: 1.72 s\n"
     ]
    }
   ],
   "source": [
    "%%time\n",
    "def une_marche2():\n",
    "    x = 0\n",
    "    for y in range(10): \n",
    "        x += randint(-1,1)\n",
    "        if abs(x) > 1 : return 0\n",
    "    return 1\n",
    "\n",
    "num_tries = 10**5\n",
    "tries = [une_marche2() for k in xrange(num_tries)]\n",
    "print float(sum(tries))/num_tries"
   ]
  },
  {
   "cell_type": "markdown",
   "metadata": {},
   "source": [
    "An alternative version that uses\n",
    "- for break else  statement"
   ]
  },
  {
   "cell_type": "code",
   "execution_count": 527,
   "metadata": {},
   "outputs": [
    {
     "name": "stdout",
     "output_type": "stream",
     "text": [
      "0.137023\n",
      "CPU times: user 17 s, sys: 122 ms, total: 17.1 s\n",
      "Wall time: 17.2 s\n"
     ]
    }
   ],
   "source": [
    "%%time\n",
    "def une_marche2():\n",
    "    x = 0\n",
    "    for y in range(10): \n",
    "        x += randint(-1,1)\n",
    "        if abs(x) > 1 : break\n",
    "    else:\n",
    "        return 1\n",
    "    return 0\n",
    "\n",
    "num_tries = 10**6\n",
    "tries = [une_marche2() for k in xrange(num_tries)]\n",
    "print float(sum(tries))/num_tries"
   ]
  },
  {
   "cell_type": "markdown",
   "metadata": {},
   "source": [
    "## Cython\n",
    "\n",
    "Well this code is so cute why not try and compile it.\n",
    "\n",
    "https://github.com/kwmsmith/scipy-2017-cython-tutorial/blob/master/02-cython-comparison.ipynb\n",
    "\n",
    "See also:\n",
    "\n",
    "https://www.ibm.com/developerworks/community/blogs/jfp/entry/Python_Meets_Julia_Micro_Performance?lang=en"
   ]
  },
  {
   "cell_type": "code",
   "execution_count": 482,
   "metadata": {},
   "outputs": [],
   "source": [
    "%load_ext Cython"
   ]
  },
  {
   "cell_type": "code",
   "execution_count": 518,
   "metadata": {},
   "outputs": [],
   "source": [
    "%%cython\n",
    "from random import randint\n",
    "\n",
    "def une_marche_cy():\n",
    "    cdef int x = 0\n",
    "    cdef int y\n",
    "    for y in range(10): \n",
    "        x += <int> randint(-1,1)\n",
    "        if abs(x) > 1 : return <int> 0\n",
    "    return <int> 1\n",
    "    \n",
    "def run(long num_tries = 10**5): \n",
    "    tries = [une_marche_cy() for k in xrange(num_tries)]\n",
    "    return tries\n",
    "\n",
    "def run2(long num_tries = 10**5): \n",
    "    cdef long T = 0\n",
    "    cdef long k\n",
    "    for k in range(num_tries):\n",
    "        T += <int> une_marche_cy() \n",
    "    return T\n"
   ]
  },
  {
   "cell_type": "markdown",
   "metadata": {},
   "source": [
    "- There appears to be no difference between run() and run2()\n",
    "- they both time to about 13.5 for a batch of $10^6$ which is nearly  4secs faster than the pure Python version but way slower than **numpy**.\n"
   ]
  },
  {
   "cell_type": "code",
   "execution_count": 526,
   "metadata": {},
   "outputs": [
    {
     "name": "stdout",
     "output_type": "stream",
     "text": [
      "0.137251\n",
      "CPU times: user 13.8 s, sys: 111 ms, total: 13.9 s\n",
      "Wall time: 14 s\n"
     ]
    }
   ],
   "source": [
    "%%time\n",
    "tries = run(num_tries = 10**6)\n",
    "print float(sum(tries))/len(tries)"
   ]
  },
  {
   "cell_type": "markdown",
   "metadata": {},
   "source": [
    "## The final version\n",
    "\n",
    "This is basically about vectorisation and matrix multiplication.\n",
    "\n",
    "Just dotting with a vector of ones doesn't work\n",
    "because the walk can break out of $[-1,1]$ and get back in again.\n",
    "So we use an upper triangular matrix to calculate a running total \n",
    "of the position deltas.\n",
    "\n",
    "- I don't really care about memory usage\n",
    "- this is definitely not for les tapettes\n",
    "- finally optimisation of counting solutions is tricky\n",
    "\n",
    "### Optimisation\n",
    "\n",
    "Finally I found this which is kind of obvious as an afterthought\n",
    "https://stackoverflow.com/questions/36267936/normalizing-rows-of-a-matrix-python\n",
    "\n",
    "\n",
    "CPU times: user 411 ms, sys: 84.4 ms, total: 495 ms\n",
    "\n",
    "This compares very favorably with my first version\n",
    "running on 10**6 :\n",
    "\n",
    "CPU times: user 17.6 s"
   ]
  },
  {
   "cell_type": "code",
   "execution_count": 321,
   "metadata": {},
   "outputs": [
    {
     "name": "stdout",
     "output_type": "stream",
     "text": [
      "137831\n",
      "CPU times: user 411 ms, sys: 84.4 ms, total: 495 ms\n",
      "Wall time: 384 ms\n"
     ]
    }
   ],
   "source": [
    "%%time\n",
    "import numpy as np\n",
    "\n",
    "n = 10**6\n",
    "M = np.random.randint(3, size=(n,10 ))\n",
    "M -= np.ones_like(M)\n",
    "\n",
    "Y = np.triu(np.ones((10,10)))\n",
    "walks = np.dot(M,Y)\n",
    "\n",
    "#this is a bit fecked but I don't see how \n",
    "#to easily vectorize this\n",
    "#CPU times: user 3.71 s, sys: 229 ms, total: 3.94 s\n",
    "#bounds = np.array([max(abs(x)) for x in walks])\n",
    "#len(bounds[bounds < 2])\n",
    "\n",
    "#this didn't work - twise as long on 10**6\n",
    "#CPU times: user 440 ms, sys: 86.5 ms, total: 527 ms\n",
    "lengths = np.abs(walks).max(axis=1)\n",
    "print len(lengths[lengths < 2])"
   ]
  },
  {
   "cell_type": "code",
   "execution_count": null,
   "metadata": {
    "collapsed": true
   },
   "outputs": [],
   "source": []
  },
  {
   "cell_type": "markdown",
   "metadata": {},
   "source": [
    "## Now let's get the value using a Markoff process\n",
    "\n",
    "calulate the exact value using a Markoff process on the graph"
   ]
  },
  {
   "cell_type": "code",
   "execution_count": 404,
   "metadata": {},
   "outputs": [
    {
     "data": {
      "text/plain": [
       "array([[ 0.33333333,  0.33333333,  0.        ,  0.        ],\n",
       "       [ 0.33333333,  0.33333333,  0.33333333,  0.        ],\n",
       "       [ 0.        ,  0.33333333,  0.33333333,  0.        ],\n",
       "       [ 0.33333333,  0.        ,  0.33333333,  1.        ]])"
      ]
     },
     "execution_count": 404,
     "metadata": {},
     "output_type": "execute_result"
    }
   ],
   "source": [
    "A = np.array([[1,1,0,1], [1,1,1,0],[0,1,1,1],[0,0,0,3]])\n",
    "A = A.transpose()/3.\n",
    "A"
   ]
  },
  {
   "cell_type": "code",
   "execution_count": 370,
   "metadata": {},
   "outputs": [],
   "source": [
    "V = np.array([0,1,0,0]).reshape((-1,1))"
   ]
  },
  {
   "cell_type": "code",
   "execution_count": 386,
   "metadata": {},
   "outputs": [],
   "source": [
    "sp, vp = np.linalg.eig(A)"
   ]
  },
  {
   "cell_type": "code",
   "execution_count": 393,
   "metadata": {},
   "outputs": [],
   "source": [
    "vv = vp[:,0].reshape((-1,1))"
   ]
  },
  {
   "cell_type": "code",
   "execution_count": 394,
   "metadata": {},
   "outputs": [
    {
     "data": {
      "text/plain": [
       "array([[ 0.],\n",
       "       [ 0.],\n",
       "       [ 0.],\n",
       "       [ 1.]])"
      ]
     },
     "execution_count": 394,
     "metadata": {},
     "output_type": "execute_result"
    }
   ],
   "source": [
    "np.dot(A,vv)"
   ]
  },
  {
   "cell_type": "code",
   "execution_count": 402,
   "metadata": {},
   "outputs": [
    {
     "data": {
      "text/plain": [
       "array([[ 0.02848482,  0.04027164,  0.02846788,  0.        ],\n",
       "       [ 0.04027164,  0.0569527 ,  0.04027164,  0.        ],\n",
       "       [ 0.02846788,  0.04027164,  0.02848482,  0.        ],\n",
       "       [ 0.90277566,  0.86250402,  0.90277566,  1.        ]])"
      ]
     },
     "execution_count": 402,
     "metadata": {},
     "output_type": "execute_result"
    }
   ],
   "source": [
    "np.linalg.matrix_power(A,10)"
   ]
  },
  {
   "cell_type": "code",
   "execution_count": 405,
   "metadata": {},
   "outputs": [
    {
     "data": {
      "text/plain": [
       "0.13749597999999996"
      ]
     },
     "execution_count": 405,
     "metadata": {},
     "output_type": "execute_result"
    }
   ],
   "source": [
    "1 - 0.86250402\n"
   ]
  },
  {
   "cell_type": "code",
   "execution_count": 435,
   "metadata": {},
   "outputs": [
    {
     "data": {
      "text/plain": [
       "array([[ 1,  0,  0, -1, -1,  0,  0,  1, -1,  0]])"
      ]
     },
     "execution_count": 435,
     "metadata": {},
     "output_type": "execute_result"
    }
   ],
   "source": [
    "np.random.randint(-1,high=2,size=(1,10))"
   ]
  },
  {
   "cell_type": "code",
   "execution_count": null,
   "metadata": {
    "collapsed": true
   },
   "outputs": [],
   "source": []
  }
 ],
 "metadata": {
  "kernelspec": {
   "display_name": "Python 2",
   "language": "python",
   "name": "python2"
  },
  "language_info": {
   "codemirror_mode": {
    "name": "ipython",
    "version": 2
   },
   "file_extension": ".py",
   "mimetype": "text/x-python",
   "name": "python",
   "nbconvert_exporter": "python",
   "pygments_lexer": "ipython2",
   "version": "2.7.13"
  }
 },
 "nbformat": 4,
 "nbformat_minor": 2
}
