{
 "cells": [
  {
   "cell_type": "markdown",
   "metadata": {},
   "source": [
    "## Homework\n",
    "\n",
    "I came across my kid's homework which was some kind of simulation\n",
    "to calculate the probability that a random walk of length 10 didn't leave $[-2,2]$. \n",
    "\n",
    "I calculated the value that we should get in the limit  by taking the 10th power of the transition matrix for the Markov process \n",
    "- it is 1 - 0.86250402 = 0.13749598\n",
    "- he told me later they calculated the value using the binomial distribution.\n",
    "\n",
    "The code was so ugly, an affront to [the Zen of Python](https://www.python.org/dev/peps/pep-0020/),\n",
    "that I immediately scribbled all over it in red ink.\n",
    "I don't think a school teacher would care but why do something wrong when it is actually easier to do it right ?\n",
    "\n",
    "---\n",
    "\n",
    "### Final solution\n",
    "\n",
    "This is my final code: \n",
    "\n",
    "- 8 LOC as opposed to 18. There is a linebreak in the call to np.random.randint because I hate code that goes too far to the right.\n",
    "- I used **numpy** to vectorize and this makes things harder to follow but you can't knock a 40x speed gain \n",
    "- there is a mathematical trick in L12 to calculate a running tally using an upper triangular matrix. Tricks are **bad** but that's vectorisation for you.\n",
    "\n",
    "The code is readable for a mathematician used to matrix operations but for a bog standard programmer it **will probably** be much harder. I would argue that now with the developments in machine learning that inherently require vectorisation the programmer should buck up.\n",
    "\n",
    "Actually I ended up doing about the same speedwise with \n",
    "[Cython](http://cython.org/) but that's life. Perhaps the Cython version is better as it is really, really easy to read for a beginner programmer though there is a trick - recoding **random.randint** using **rand** from [libc.sdlib](https://en.wikipedia.org/wiki/C_standard_library).\n",
    "\n"
   ]
  },
  {
   "cell_type": "code",
   "execution_count": 709,
   "metadata": {},
   "outputs": [
    {
     "name": "stdout",
     "output_type": "stream",
     "text": [
      "total 137987\n",
      "CPU times: user 388 ms, sys: 74.8 ms, total: 463 ms\n",
      "Wall time: 389 ms\n"
     ]
    }
   ],
   "source": [
    "%%time\n",
    "import numpy as np\n",
    "\n",
    "batch_size = 10**6\n",
    "walk_length = 10\n",
    "#make a random matrix and with values in -1,0,1\n",
    "path_deltas = np.random.randint(-1, high=2, \n",
    "                                size=(batch_size, walk_length))\n",
    "\n",
    "#make an upper triangular matrix and calculate postions\n",
    "UT = np.triu(np.ones((10,10)))\n",
    "positions = np.dot(path_deltas,UT)\n",
    "\n",
    "#calculate fancy indexing and use fancy indexing to finish\n",
    "max_dist_to_0 = np.abs(positions).max(axis=1)\n",
    "print 'total', len(max_dist_to_0[ max_dist_to_0 < 2])\n",
    "\n",
    "#dists_to_0 = np.abs(positions[-1,:])\n",
    "#print 'dist', np.sum(dists_to_0)/batch_size"
   ]
  },
  {
   "cell_type": "markdown",
   "metadata": {},
   "source": [
    "## Original code\n",
    "\n",
    "This was the original code in the homework.\n",
    "Actually it didn't respect spacing conventions \n",
    "but that's another story.\n",
    "\n",
    "It's 18 LOC if we don't count the first 3.\n",
    "\n",
    "It looks all wrong: \n",
    "- a **while** where the maximal number of loops is known\n",
    "- the mere fact that \n",
    "it sets a variable **t**  instead of using\n",
    "multiple **returns**..."
   ]
  },
  {
   "cell_type": "code",
   "execution_count": 412,
   "metadata": {},
   "outputs": [
    {
     "name": "stdout",
     "output_type": "stream",
     "text": [
      "0.13776\n",
      "CPU times: user 1.81 s, sys: 17.9 ms, total: 1.83 s\n",
      "Wall time: 1.83 s\n"
     ]
    }
   ],
   "source": [
    "%%time\n",
    "from random import randint\n",
    "\n",
    "def une_marche():\n",
    "    x = 0\n",
    "    y = 0\n",
    "    while  -1 <= x and x <= 1 and y < 10:\n",
    "        a = randint(-1,1)\n",
    "        x = x + a\n",
    "        y = y + 1\n",
    "        \n",
    "    if x == -2 or x == 2:\n",
    "        t = 0\n",
    "    else:\n",
    "        t = 1     \n",
    "    return t\n",
    "    \n",
    "T = 0\n",
    "num_tries = 10**5\n",
    "for k in xrange(num_tries):\n",
    "    T = T + une_marche()\n",
    "print float(T)/num_tries  "
   ]
  },
  {
   "cell_type": "markdown",
   "metadata": {},
   "source": [
    "###  My first version\n",
    "\n",
    "- tidied up the while loop\n",
    "- use and in statement instead of repeated comparisons\n",
    "- the += operator here and there\n",
    "\n",
    "For me this still looks like someone that does Java/C++."
   ]
  },
  {
   "cell_type": "code",
   "execution_count": 415,
   "metadata": {},
   "outputs": [
    {
     "name": "stdout",
     "output_type": "stream",
     "text": [
      "0.13597\n",
      "CPU times: user 1.9 s, sys: 18.1 ms, total: 1.91 s\n",
      "Wall time: 1.93 s\n"
     ]
    }
   ],
   "source": [
    "%%time\n",
    "from random import randint\n",
    "\n",
    "def une_marche():\n",
    "    x = y = 0\n",
    "    while  -1 <= x <= 1 and y < 10:\n",
    "        a = randint(-1,1)\n",
    "        x += a\n",
    "        y += 1\n",
    "    if x in [-2,2]:\n",
    "        return 0\n",
    "    else:\n",
    "        return 1\n",
    "    \n",
    "T = 0\n",
    "num_tries = 10**5\n",
    "for k in xrange(num_tries):\n",
    "    T += une_marche()\n",
    "print float(T)/num_tries    "
   ]
  },
  {
   "cell_type": "markdown",
   "metadata": {},
   "source": [
    "## Second version\n",
    "\n",
    "A somewhat simpler and uses standard Python idioms.\n",
    "\n",
    "- for  statement\n",
    "- list comprehension [ x for x in list]\n",
    "- the += operator\n",
    "- the sum builtin \n",
    "- the break condition is now abs(x) > 1\n",
    "\n",
    "It's 10 LOC - so nearly 40% less lines less.\n",
    "\n",
    "It runs about as fast as my first attempt \n",
    "but was marginally faster \n",
    "- with -1 <= x <= 1 \n",
    "- instead of abs(x) > 1"
   ]
  },
  {
   "cell_type": "code",
   "execution_count": 471,
   "metadata": {},
   "outputs": [
    {
     "name": "stdout",
     "output_type": "stream",
     "text": [
      "0.13741\n",
      "CPU times: user 1.7 s, sys: 24.8 ms, total: 1.72 s\n",
      "Wall time: 1.72 s\n"
     ]
    }
   ],
   "source": [
    "%%time\n",
    "def une_marche2():\n",
    "    x = 0\n",
    "    for y in range(10): \n",
    "        x += randint(-1,1)\n",
    "        if abs(x) > 1 : return 0\n",
    "    return 1\n",
    "\n",
    "num_tries = 10**5\n",
    "tries = [une_marche2() for k in xrange(num_tries)]\n",
    "print float(sum(tries))/num_tries"
   ]
  },
  {
   "cell_type": "markdown",
   "metadata": {},
   "source": [
    "An alternative version that uses\n",
    "- for break else  statement"
   ]
  },
  {
   "cell_type": "code",
   "execution_count": 527,
   "metadata": {},
   "outputs": [
    {
     "name": "stdout",
     "output_type": "stream",
     "text": [
      "0.137023\n",
      "CPU times: user 17 s, sys: 122 ms, total: 17.1 s\n",
      "Wall time: 17.2 s\n"
     ]
    }
   ],
   "source": [
    "%%time\n",
    "def une_marche2():\n",
    "    x = 0\n",
    "    for y in range(10): \n",
    "        x += randint(-1,1)\n",
    "        if abs(x) > 1 : break\n",
    "    else:\n",
    "        return 1\n",
    "    return 0\n",
    "\n",
    "num_tries = 10**6\n",
    "tries = [une_marche2() for k in xrange(num_tries)]\n",
    "print float(sum(tries))/num_tries"
   ]
  },
  {
   "cell_type": "markdown",
   "metadata": {},
   "source": [
    "## Cython\n",
    "\n",
    "Well this code is so cute why not try and compile it.\n",
    "The speed seems to be bound by a call to **randint** :(\n",
    "\n",
    "See:\n",
    "https://github.com/kwmsmith/scipy-2017-cython-tutorial/blob/master/02-cython-comparison.ipynb\n",
    "\n",
    "\n",
    "See also:\n",
    "https://www.ibm.com/developerworks/community/blogs/jfp/entry/Python_Meets_Julia_Micro_Performance?lang=en\n",
    "\n",
    "and maybe we need more work :(\n",
    "http://nealhughes.net/cython1/\n"
   ]
  },
  {
   "cell_type": "code",
   "execution_count": 482,
   "metadata": {},
   "outputs": [],
   "source": [
    "%load_ext Cython"
   ]
  },
  {
   "cell_type": "code",
   "execution_count": 714,
   "metadata": {},
   "outputs": [],
   "source": [
    "%%cython \n",
    "from random import randint\n",
    "\n",
    "def une_marche_cy():\n",
    "    cdef int x = 0\n",
    "    cdef int y\n",
    "    for y in range(10): \n",
    "        x +=  randint(-1,1)\n",
    "        if abs(x) > 1 : return <int> 0\n",
    "    return <int> 1\n",
    "    \n",
    "def run_cy1(long num_tries = 10**5): \n",
    "    tries = [une_marche_cy() for k in xrange(num_tries)]\n",
    "    return tries\n"
   ]
  },
  {
   "cell_type": "code",
   "execution_count": 716,
   "metadata": {},
   "outputs": [
    {
     "name": "stdout",
     "output_type": "stream",
     "text": [
      "0.13789\n",
      "CPU times: user 13.1 s, sys: 84.6 ms, total: 13.2 s\n",
      "Wall time: 13.2 s\n"
     ]
    }
   ],
   "source": [
    "%%time\n",
    "tries = run_cy1(num_tries = 10**6)\n",
    "print float(sum(tries))/len(tries)"
   ]
  },
  {
   "cell_type": "markdown",
   "metadata": {},
   "source": [
    "### Conclusion 1\n",
    "\n",
    "- times to about 13.1 for a batch of $10^6$ which is nearly  4secs faster than the pure Python version but way slower than **numpy**.\n",
    "- the bottleneck is the call to **randint**\n",
    "\n",
    "\n",
    "So I found this as a remedy to the problem with the call.\n",
    "\n",
    "http://hplgit.github.io/teamods/MC_cython/main_MC_cython.html\n",
    "\n",
    "Actually there is an amusing mistake in their code:\n",
    "\n",
    "r = 1 + int(rand()/(RAND_MAX*6.0))\n",
    "\n",
    "The parenthesis are wrong here (RAND_MAX*6.0)\n",
    "what they want is \n",
    "\n",
    "r = 1 + int(6.0*rand()/RAND_MAX)"
   ]
  },
  {
   "cell_type": "code",
   "execution_count": 738,
   "metadata": {},
   "outputs": [],
   "source": [
    "%%cython \n",
    "from libc.stdlib cimport rand, RAND_MAX\n",
    "\n",
    "def my_rand():\n",
    "    '''integer in -1,0,1'''\n",
    "    return -1 + int(3.0*rand()/RAND_MAX) \n",
    "\n",
    "def une_marche_cy():\n",
    "    cdef int x = 0, y\n",
    "    for y in range(10): \n",
    "        x +=  my_rand()\n",
    "        if abs(x) > 1 : return  0\n",
    "    return  1"
   ]
  },
  {
   "cell_type": "markdown",
   "metadata": {},
   "source": [
    "### Conclusion 2\n",
    "\n",
    "Still very cute for all I have done is \n",
    "1. add a type statement **cdef**\n",
    "2. written a replacement for **random.randint(-1,1)**.\n",
    "\n",
    "Very satisfying n'est-ce pas ?\n",
    "I could inline the code for **my_rand** to avoid a function call\n",
    "and\n",
    "\n",
    "- squeeze a few microseconds.\n",
    "- get down to 10 LOC\n",
    "\n",
    "but who cares?\n",
    "\n",
    "And the moment of truth..."
   ]
  },
  {
   "cell_type": "code",
   "execution_count": 741,
   "metadata": {},
   "outputs": [
    {
     "name": "stdout",
     "output_type": "stream",
     "text": [
      "0.137002\n",
      "CPU times: user 623 ms, sys: 30.4 ms, total: 654 ms\n",
      "Wall time: 691 ms\n"
     ]
    }
   ],
   "source": [
    "%%time\n",
    "num_tries = 10**6\n",
    "tries = [une_marche_cy() for k in xrange(num_tries)]\n",
    "print float(sum(tries))/len(tries)"
   ]
  },
  {
   "cell_type": "markdown",
   "metadata": {},
   "source": [
    "slower than the **numpy** version but that's only because\n",
    "of the last cell doing some calculations in pure Python :)."
   ]
  },
  {
   "cell_type": "markdown",
   "metadata": {},
   "source": [
    "## The numpy  version\n",
    "\n",
    "This is basically about vectorisation and matrix multiplication using **numpy**.\n",
    "\n",
    "Just dotting with a vector of ones doesn't work\n",
    "because the walk can break out of $[-1,1]$ and get back in again.\n",
    "So we use an upper triangular matrix to calculate a running total \n",
    "of the position deltas.\n",
    "\n",
    "- I don't really care about memory usage\n",
    "- this is definitely not for les tapettes\n",
    "- finally optimisation of counting solutions is tricky\n",
    "\n",
    "### Optimisation\n",
    "\n",
    "Finally I found this which is kind of obvious as an afterthought\n",
    "https://stackoverflow.com/questions/36267936/normalizing-rows-of-a-matrix-python\n",
    "\n",
    "\n",
    "CPU times: user 411 ms, sys: 84.4 ms, total: 495 ms\n",
    "\n",
    "This compares very favorably with my first version\n",
    "running on 10**6 :\n",
    "\n",
    "CPU times: user 17.6 s"
   ]
  },
  {
   "cell_type": "code",
   "execution_count": 321,
   "metadata": {},
   "outputs": [
    {
     "name": "stdout",
     "output_type": "stream",
     "text": [
      "137831\n",
      "CPU times: user 411 ms, sys: 84.4 ms, total: 495 ms\n",
      "Wall time: 384 ms\n"
     ]
    }
   ],
   "source": [
    "%%time\n",
    "import numpy as np\n",
    "\n",
    "n = 10**6\n",
    "M = np.random.randint(3, size=(n,10 ))\n",
    "M -= np.ones_like(M)\n",
    "\n",
    "Y = np.triu(np.ones((10,10)))\n",
    "walks = np.dot(M,Y)\n",
    "\n",
    "#this is a bit fecked but I don't see how \n",
    "#to easily vectorize this\n",
    "#CPU times: user 3.71 s, sys: 229 ms, total: 3.94 s\n",
    "#bounds = np.array([max(abs(x)) for x in walks])\n",
    "#len(bounds[bounds < 2])\n",
    "\n",
    "#this didn't work - twise as long on 10**6\n",
    "#CPU times: user 440 ms, sys: 86.5 ms, total: 527 ms\n",
    "lengths = np.abs(walks).max(axis=1)\n",
    "print len(lengths[lengths < 2])"
   ]
  },
  {
   "cell_type": "code",
   "execution_count": null,
   "metadata": {
    "collapsed": true
   },
   "outputs": [],
   "source": []
  },
  {
   "cell_type": "markdown",
   "metadata": {},
   "source": [
    "## Now let's get the value using a Markoff process\n",
    "\n",
    "calulate the exact value using a Markoff process on the graph"
   ]
  },
  {
   "cell_type": "code",
   "execution_count": 404,
   "metadata": {},
   "outputs": [
    {
     "data": {
      "text/plain": [
       "array([[ 0.33333333,  0.33333333,  0.        ,  0.        ],\n",
       "       [ 0.33333333,  0.33333333,  0.33333333,  0.        ],\n",
       "       [ 0.        ,  0.33333333,  0.33333333,  0.        ],\n",
       "       [ 0.33333333,  0.        ,  0.33333333,  1.        ]])"
      ]
     },
     "execution_count": 404,
     "metadata": {},
     "output_type": "execute_result"
    }
   ],
   "source": [
    "A = np.array([[1,1,0,1], [1,1,1,0],[0,1,1,1],[0,0,0,3]])\n",
    "A = A.transpose()/3.\n",
    "A"
   ]
  },
  {
   "cell_type": "code",
   "execution_count": 370,
   "metadata": {},
   "outputs": [],
   "source": [
    "V = np.array([0,1,0,0]).reshape((-1,1))"
   ]
  },
  {
   "cell_type": "code",
   "execution_count": 386,
   "metadata": {},
   "outputs": [],
   "source": [
    "sp, vp = np.linalg.eig(A)"
   ]
  },
  {
   "cell_type": "code",
   "execution_count": 393,
   "metadata": {},
   "outputs": [],
   "source": [
    "vv = vp[:,0].reshape((-1,1))"
   ]
  },
  {
   "cell_type": "code",
   "execution_count": 394,
   "metadata": {},
   "outputs": [
    {
     "data": {
      "text/plain": [
       "array([[ 0.],\n",
       "       [ 0.],\n",
       "       [ 0.],\n",
       "       [ 1.]])"
      ]
     },
     "execution_count": 394,
     "metadata": {},
     "output_type": "execute_result"
    }
   ],
   "source": [
    "np.dot(A,vv)"
   ]
  },
  {
   "cell_type": "code",
   "execution_count": 402,
   "metadata": {},
   "outputs": [
    {
     "data": {
      "text/plain": [
       "array([[ 0.02848482,  0.04027164,  0.02846788,  0.        ],\n",
       "       [ 0.04027164,  0.0569527 ,  0.04027164,  0.        ],\n",
       "       [ 0.02846788,  0.04027164,  0.02848482,  0.        ],\n",
       "       [ 0.90277566,  0.86250402,  0.90277566,  1.        ]])"
      ]
     },
     "execution_count": 402,
     "metadata": {},
     "output_type": "execute_result"
    }
   ],
   "source": [
    "np.linalg.matrix_power(A,10)"
   ]
  },
  {
   "cell_type": "code",
   "execution_count": 405,
   "metadata": {},
   "outputs": [
    {
     "data": {
      "text/plain": [
       "0.13749597999999996"
      ]
     },
     "execution_count": 405,
     "metadata": {},
     "output_type": "execute_result"
    }
   ],
   "source": [
    "1 - 0.86250402\n"
   ]
  },
  {
   "cell_type": "code",
   "execution_count": 435,
   "metadata": {},
   "outputs": [
    {
     "data": {
      "text/plain": [
       "array([[ 1,  0,  0, -1, -1,  0,  0,  1, -1,  0]])"
      ]
     },
     "execution_count": 435,
     "metadata": {},
     "output_type": "execute_result"
    }
   ],
   "source": [
    "np.random.randint(-1,high=2,size=(1,10))"
   ]
  },
  {
   "cell_type": "markdown",
   "metadata": {},
   "source": [
    "## Appendix\n",
    "\n",
    "So I found [this](http://hplgit.github.io/teamods/MC_cython/main_MC_cython.html)\n",
    "which says that you should pull stuff from **libc**. Frankly I don't reall know what's there...\n",
    "\n",
    "There is also [this replacement for random](https://github.com/Noctem/cyrandom).\n",
    "\n",
    "\n",
    "The CPU time of the plain Python version was 10 s, which is reasonably fast for obtaining a fairly accurate result in this problem. The lesson learned is therefore that a Monte Carlo simulation can be implemented in plain Python first. If more speed is needed, one can just add type information and create a Cython code. Studying the HTML file with what Cython manages to translate to C may give hints about how successful the Cython code is and point to optimizations, like avoiding the call to random.randint in the present case. Optimal Cython code runs here at approximately the same speed as calling a handwritten C function with the time-consuming loops. It is to be noticed that the stand-alone C program here ran faster than calling C from Python, probably because the amount of calculations is not large enough to make the overhead of calling C negligible.\n",
    "\n",
    "Vectorized Python do give a great speed-up compared to plain loops in Python, if done correctly, but the efficiency is not on par with Cython or handwritten C. Even more important is the fact that vectorized code is not at all as readable as the algorithm expressed in plain Python, Cython, or C. Cython therefore provides a very attractive combination of readability, ease of programming, and high speed.\n",
    "\n"
   ]
  },
  {
   "cell_type": "code",
   "execution_count": 662,
   "metadata": {},
   "outputs": [],
   "source": [
    "%%cython \n",
    "from libc.stdlib cimport rand, RAND_MAX\n",
    "\n",
    "def rr():\n",
    "    return int( 3.0*rand()/RAND_MAX ) -1\n"
   ]
  },
  {
   "cell_type": "code",
   "execution_count": 692,
   "metadata": {},
   "outputs": [
    {
     "data": {
      "text/plain": [
       "0.007"
      ]
     },
     "execution_count": 692,
     "metadata": {},
     "output_type": "execute_result"
    }
   ],
   "source": [
    "pp = [ sum([rr() for i in range(30)]) for k in range(1000)]\n",
    "float(sum(pp))/len(pp)"
   ]
  }
 ],
 "metadata": {
  "kernelspec": {
   "display_name": "Python 2",
   "language": "python",
   "name": "python2"
  },
  "language_info": {
   "codemirror_mode": {
    "name": "ipython",
    "version": 2
   },
   "file_extension": ".py",
   "mimetype": "text/x-python",
   "name": "python",
   "nbconvert_exporter": "python",
   "pygments_lexer": "ipython2",
   "version": "2.7.13"
  }
 },
 "nbformat": 4,
 "nbformat_minor": 2
}
