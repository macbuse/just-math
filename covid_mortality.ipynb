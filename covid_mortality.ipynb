{
 "cells": [
  {
   "cell_type": "markdown",
   "metadata": {},
   "source": [
    "# COVID mortality rates per country\n",
    "\n",
    "This is a naive analysis of the published  mortality rates for the COVID 19 pandemic.\n",
    "\n",
    "- pull the data from a csv on github\n",
    "- turn it into a Pandas DataFrame\n",
    "- do some filtering and a couple of plots\n",
    "\n",
    "I believe that **everyone** should be able to do this.\n",
    "Doing basic data analysis should be  like  what reading and writing\n",
    "was at the beginning of the 20th century - a basic skill \n",
    "taught to every child at school.\n",
    "\n",
    "The data is published [here](https://github.com/CSSEGISandData/COVID-19)\n",
    "\n",
    "**2019 Novel Coronavirus COVID-19 (2019-nCoV) Data Repository by Johns Hopkins CSSE**\n",
    "\n",
    "This is the data repository for the 2019 Novel Coronavirus Visual Dashboard operated by the Johns Hopkins University Center for Systems Science and Engineering (JHU CSSE). \n",
    "\n",
    "\n"
   ]
  },
  {
   "cell_type": "code",
   "execution_count": 78,
   "metadata": {},
   "outputs": [],
   "source": [
    "import requests\n",
    "\n",
    "import pandas as pd\n",
    "import numpy as np\n",
    "import matplotlib.pyplot as plt"
   ]
  },
  {
   "cell_type": "markdown",
   "metadata": {},
   "source": [
    "# get the latest time series and save to disk"
   ]
  },
  {
   "cell_type": "code",
   "execution_count": 88,
   "metadata": {},
   "outputs": [],
   "source": [
    "root_dir = 'https://raw.githubusercontent.com/CSSEGISandData/COVID-19/master/csse_covid_19_data/csse_covid_19_time_series/'\n",
    "fn = 'time_series_covid19_%s_global.csv'\n",
    "\n",
    "for ss in ['deaths','confirmed']:\n",
    "    r = requests.get(root_dir + fn%ss, allow_redirects=True)\n",
    "    open('covid_%s.csv'%ss, 'wb').write(r.content)\n",
    "\n"
   ]
  },
  {
   "cell_type": "markdown",
   "metadata": {},
   "source": [
    "# Parse them a DataFrames"
   ]
  },
  {
   "cell_type": "code",
   "execution_count": 89,
   "metadata": {},
   "outputs": [],
   "source": [
    "df = pd.read_csv('covid_deaths.csv')\n",
    "dfc = pd.read_csv('covid_confirmed.csv')"
   ]
  },
  {
   "cell_type": "code",
   "execution_count": 91,
   "metadata": {},
   "outputs": [
    {
     "data": {
      "text/html": [
       "<div>\n",
       "<style scoped>\n",
       "    .dataframe tbody tr th:only-of-type {\n",
       "        vertical-align: middle;\n",
       "    }\n",
       "\n",
       "    .dataframe tbody tr th {\n",
       "        vertical-align: top;\n",
       "    }\n",
       "\n",
       "    .dataframe thead th {\n",
       "        text-align: right;\n",
       "    }\n",
       "</style>\n",
       "<table border=\"1\" class=\"dataframe\">\n",
       "  <thead>\n",
       "    <tr style=\"text-align: right;\">\n",
       "      <th></th>\n",
       "      <th>Province/State</th>\n",
       "      <th>Country/Region</th>\n",
       "      <th>Lat</th>\n",
       "      <th>Long</th>\n",
       "      <th>1/22/20</th>\n",
       "      <th>1/23/20</th>\n",
       "      <th>1/24/20</th>\n",
       "      <th>1/25/20</th>\n",
       "      <th>1/26/20</th>\n",
       "      <th>1/27/20</th>\n",
       "      <th>...</th>\n",
       "      <th>3/18/20</th>\n",
       "      <th>3/19/20</th>\n",
       "      <th>3/20/20</th>\n",
       "      <th>3/21/20</th>\n",
       "      <th>3/22/20</th>\n",
       "      <th>3/23/20</th>\n",
       "      <th>3/24/20</th>\n",
       "      <th>3/25/20</th>\n",
       "      <th>3/26/20</th>\n",
       "      <th>3/27/20</th>\n",
       "    </tr>\n",
       "  </thead>\n",
       "  <tbody>\n",
       "    <tr>\n",
       "      <th>140</th>\n",
       "      <td>NaN</td>\n",
       "      <td>Jordan</td>\n",
       "      <td>31.2400</td>\n",
       "      <td>36.5100</td>\n",
       "      <td>0</td>\n",
       "      <td>0</td>\n",
       "      <td>0</td>\n",
       "      <td>0</td>\n",
       "      <td>0</td>\n",
       "      <td>0</td>\n",
       "      <td>...</td>\n",
       "      <td>52</td>\n",
       "      <td>69</td>\n",
       "      <td>85</td>\n",
       "      <td>85</td>\n",
       "      <td>112</td>\n",
       "      <td>127</td>\n",
       "      <td>154</td>\n",
       "      <td>172</td>\n",
       "      <td>212</td>\n",
       "      <td>235</td>\n",
       "    </tr>\n",
       "    <tr>\n",
       "      <th>141</th>\n",
       "      <td>NaN</td>\n",
       "      <td>Kazakhstan</td>\n",
       "      <td>48.0196</td>\n",
       "      <td>66.9237</td>\n",
       "      <td>0</td>\n",
       "      <td>0</td>\n",
       "      <td>0</td>\n",
       "      <td>0</td>\n",
       "      <td>0</td>\n",
       "      <td>0</td>\n",
       "      <td>...</td>\n",
       "      <td>35</td>\n",
       "      <td>44</td>\n",
       "      <td>49</td>\n",
       "      <td>53</td>\n",
       "      <td>60</td>\n",
       "      <td>62</td>\n",
       "      <td>72</td>\n",
       "      <td>81</td>\n",
       "      <td>111</td>\n",
       "      <td>150</td>\n",
       "    </tr>\n",
       "    <tr>\n",
       "      <th>142</th>\n",
       "      <td>NaN</td>\n",
       "      <td>Kenya</td>\n",
       "      <td>-0.0236</td>\n",
       "      <td>37.9062</td>\n",
       "      <td>0</td>\n",
       "      <td>0</td>\n",
       "      <td>0</td>\n",
       "      <td>0</td>\n",
       "      <td>0</td>\n",
       "      <td>0</td>\n",
       "      <td>...</td>\n",
       "      <td>3</td>\n",
       "      <td>7</td>\n",
       "      <td>7</td>\n",
       "      <td>7</td>\n",
       "      <td>15</td>\n",
       "      <td>16</td>\n",
       "      <td>25</td>\n",
       "      <td>28</td>\n",
       "      <td>31</td>\n",
       "      <td>31</td>\n",
       "    </tr>\n",
       "    <tr>\n",
       "      <th>143</th>\n",
       "      <td>NaN</td>\n",
       "      <td>Korea, South</td>\n",
       "      <td>36.0000</td>\n",
       "      <td>128.0000</td>\n",
       "      <td>1</td>\n",
       "      <td>1</td>\n",
       "      <td>2</td>\n",
       "      <td>2</td>\n",
       "      <td>3</td>\n",
       "      <td>4</td>\n",
       "      <td>...</td>\n",
       "      <td>8413</td>\n",
       "      <td>8565</td>\n",
       "      <td>8652</td>\n",
       "      <td>8799</td>\n",
       "      <td>8961</td>\n",
       "      <td>8961</td>\n",
       "      <td>9037</td>\n",
       "      <td>9137</td>\n",
       "      <td>9241</td>\n",
       "      <td>9332</td>\n",
       "    </tr>\n",
       "    <tr>\n",
       "      <th>144</th>\n",
       "      <td>NaN</td>\n",
       "      <td>Kuwait</td>\n",
       "      <td>29.5000</td>\n",
       "      <td>47.7500</td>\n",
       "      <td>0</td>\n",
       "      <td>0</td>\n",
       "      <td>0</td>\n",
       "      <td>0</td>\n",
       "      <td>0</td>\n",
       "      <td>0</td>\n",
       "      <td>...</td>\n",
       "      <td>142</td>\n",
       "      <td>148</td>\n",
       "      <td>159</td>\n",
       "      <td>176</td>\n",
       "      <td>188</td>\n",
       "      <td>189</td>\n",
       "      <td>191</td>\n",
       "      <td>195</td>\n",
       "      <td>208</td>\n",
       "      <td>225</td>\n",
       "    </tr>\n",
       "    <tr>\n",
       "      <th>145</th>\n",
       "      <td>NaN</td>\n",
       "      <td>Kyrgyzstan</td>\n",
       "      <td>41.2044</td>\n",
       "      <td>74.7661</td>\n",
       "      <td>0</td>\n",
       "      <td>0</td>\n",
       "      <td>0</td>\n",
       "      <td>0</td>\n",
       "      <td>0</td>\n",
       "      <td>0</td>\n",
       "      <td>...</td>\n",
       "      <td>3</td>\n",
       "      <td>3</td>\n",
       "      <td>6</td>\n",
       "      <td>14</td>\n",
       "      <td>14</td>\n",
       "      <td>16</td>\n",
       "      <td>42</td>\n",
       "      <td>44</td>\n",
       "      <td>44</td>\n",
       "      <td>58</td>\n",
       "    </tr>\n",
       "    <tr>\n",
       "      <th>146</th>\n",
       "      <td>NaN</td>\n",
       "      <td>Latvia</td>\n",
       "      <td>56.8796</td>\n",
       "      <td>24.6032</td>\n",
       "      <td>0</td>\n",
       "      <td>0</td>\n",
       "      <td>0</td>\n",
       "      <td>0</td>\n",
       "      <td>0</td>\n",
       "      <td>0</td>\n",
       "      <td>...</td>\n",
       "      <td>71</td>\n",
       "      <td>86</td>\n",
       "      <td>111</td>\n",
       "      <td>124</td>\n",
       "      <td>139</td>\n",
       "      <td>180</td>\n",
       "      <td>197</td>\n",
       "      <td>221</td>\n",
       "      <td>244</td>\n",
       "      <td>280</td>\n",
       "    </tr>\n",
       "    <tr>\n",
       "      <th>147</th>\n",
       "      <td>NaN</td>\n",
       "      <td>Lebanon</td>\n",
       "      <td>33.8547</td>\n",
       "      <td>35.8623</td>\n",
       "      <td>0</td>\n",
       "      <td>0</td>\n",
       "      <td>0</td>\n",
       "      <td>0</td>\n",
       "      <td>0</td>\n",
       "      <td>0</td>\n",
       "      <td>...</td>\n",
       "      <td>133</td>\n",
       "      <td>157</td>\n",
       "      <td>163</td>\n",
       "      <td>187</td>\n",
       "      <td>248</td>\n",
       "      <td>267</td>\n",
       "      <td>318</td>\n",
       "      <td>333</td>\n",
       "      <td>368</td>\n",
       "      <td>391</td>\n",
       "    </tr>\n",
       "    <tr>\n",
       "      <th>148</th>\n",
       "      <td>NaN</td>\n",
       "      <td>Liberia</td>\n",
       "      <td>6.4281</td>\n",
       "      <td>-9.4295</td>\n",
       "      <td>0</td>\n",
       "      <td>0</td>\n",
       "      <td>0</td>\n",
       "      <td>0</td>\n",
       "      <td>0</td>\n",
       "      <td>0</td>\n",
       "      <td>...</td>\n",
       "      <td>2</td>\n",
       "      <td>2</td>\n",
       "      <td>2</td>\n",
       "      <td>3</td>\n",
       "      <td>3</td>\n",
       "      <td>3</td>\n",
       "      <td>3</td>\n",
       "      <td>3</td>\n",
       "      <td>3</td>\n",
       "      <td>3</td>\n",
       "    </tr>\n",
       "    <tr>\n",
       "      <th>149</th>\n",
       "      <td>NaN</td>\n",
       "      <td>Liechtenstein</td>\n",
       "      <td>47.1400</td>\n",
       "      <td>9.5500</td>\n",
       "      <td>0</td>\n",
       "      <td>0</td>\n",
       "      <td>0</td>\n",
       "      <td>0</td>\n",
       "      <td>0</td>\n",
       "      <td>0</td>\n",
       "      <td>...</td>\n",
       "      <td>28</td>\n",
       "      <td>28</td>\n",
       "      <td>28</td>\n",
       "      <td>37</td>\n",
       "      <td>37</td>\n",
       "      <td>51</td>\n",
       "      <td>51</td>\n",
       "      <td>51</td>\n",
       "      <td>56</td>\n",
       "      <td>56</td>\n",
       "    </tr>\n",
       "  </tbody>\n",
       "</table>\n",
       "<p>10 rows × 70 columns</p>\n",
       "</div>"
      ],
      "text/plain": [
       "    Province/State Country/Region      Lat      Long  1/22/20  1/23/20  \\\n",
       "140            NaN         Jordan  31.2400   36.5100        0        0   \n",
       "141            NaN     Kazakhstan  48.0196   66.9237        0        0   \n",
       "142            NaN          Kenya  -0.0236   37.9062        0        0   \n",
       "143            NaN   Korea, South  36.0000  128.0000        1        1   \n",
       "144            NaN         Kuwait  29.5000   47.7500        0        0   \n",
       "145            NaN     Kyrgyzstan  41.2044   74.7661        0        0   \n",
       "146            NaN         Latvia  56.8796   24.6032        0        0   \n",
       "147            NaN        Lebanon  33.8547   35.8623        0        0   \n",
       "148            NaN        Liberia   6.4281   -9.4295        0        0   \n",
       "149            NaN  Liechtenstein  47.1400    9.5500        0        0   \n",
       "\n",
       "     1/24/20  1/25/20  1/26/20  1/27/20  ...  3/18/20  3/19/20  3/20/20  \\\n",
       "140        0        0        0        0  ...       52       69       85   \n",
       "141        0        0        0        0  ...       35       44       49   \n",
       "142        0        0        0        0  ...        3        7        7   \n",
       "143        2        2        3        4  ...     8413     8565     8652   \n",
       "144        0        0        0        0  ...      142      148      159   \n",
       "145        0        0        0        0  ...        3        3        6   \n",
       "146        0        0        0        0  ...       71       86      111   \n",
       "147        0        0        0        0  ...      133      157      163   \n",
       "148        0        0        0        0  ...        2        2        2   \n",
       "149        0        0        0        0  ...       28       28       28   \n",
       "\n",
       "     3/21/20  3/22/20  3/23/20  3/24/20  3/25/20  3/26/20  3/27/20  \n",
       "140       85      112      127      154      172      212      235  \n",
       "141       53       60       62       72       81      111      150  \n",
       "142        7       15       16       25       28       31       31  \n",
       "143     8799     8961     8961     9037     9137     9241     9332  \n",
       "144      176      188      189      191      195      208      225  \n",
       "145       14       14       16       42       44       44       58  \n",
       "146      124      139      180      197      221      244      280  \n",
       "147      187      248      267      318      333      368      391  \n",
       "148        3        3        3        3        3        3        3  \n",
       "149       37       37       51       51       51       56       56  \n",
       "\n",
       "[10 rows x 70 columns]"
      ]
     },
     "execution_count": 91,
     "metadata": {},
     "output_type": "execute_result"
    }
   ],
   "source": [
    "dfc[140:150]"
   ]
  },
  {
   "cell_type": "code",
   "execution_count": 10,
   "metadata": {},
   "outputs": [
    {
     "data": {
      "text/html": [
       "<div>\n",
       "<style scoped>\n",
       "    .dataframe tbody tr th:only-of-type {\n",
       "        vertical-align: middle;\n",
       "    }\n",
       "\n",
       "    .dataframe tbody tr th {\n",
       "        vertical-align: top;\n",
       "    }\n",
       "\n",
       "    .dataframe thead th {\n",
       "        text-align: right;\n",
       "    }\n",
       "</style>\n",
       "<table border=\"1\" class=\"dataframe\">\n",
       "  <thead>\n",
       "    <tr style=\"text-align: right;\">\n",
       "      <th></th>\n",
       "      <th>Province/State</th>\n",
       "      <th>Country/Region</th>\n",
       "      <th>Lat</th>\n",
       "      <th>Long</th>\n",
       "      <th>1/22/20</th>\n",
       "      <th>1/23/20</th>\n",
       "      <th>1/24/20</th>\n",
       "      <th>1/25/20</th>\n",
       "      <th>1/26/20</th>\n",
       "      <th>1/27/20</th>\n",
       "      <th>...</th>\n",
       "      <th>3/17/20</th>\n",
       "      <th>3/18/20</th>\n",
       "      <th>3/19/20</th>\n",
       "      <th>3/20/20</th>\n",
       "      <th>3/21/20</th>\n",
       "      <th>3/22/20</th>\n",
       "      <th>3/23/20</th>\n",
       "      <th>3/24/20</th>\n",
       "      <th>3/25/20</th>\n",
       "      <th>3/26/20</th>\n",
       "    </tr>\n",
       "  </thead>\n",
       "  <tbody>\n",
       "  </tbody>\n",
       "</table>\n",
       "<p>0 rows × 69 columns</p>\n",
       "</div>"
      ],
      "text/plain": [
       "Empty DataFrame\n",
       "Columns: [Province/State, Country/Region, Lat, Long, 1/22/20, 1/23/20, 1/24/20, 1/25/20, 1/26/20, 1/27/20, 1/28/20, 1/29/20, 1/30/20, 1/31/20, 2/1/20, 2/2/20, 2/3/20, 2/4/20, 2/5/20, 2/6/20, 2/7/20, 2/8/20, 2/9/20, 2/10/20, 2/11/20, 2/12/20, 2/13/20, 2/14/20, 2/15/20, 2/16/20, 2/17/20, 2/18/20, 2/19/20, 2/20/20, 2/21/20, 2/22/20, 2/23/20, 2/24/20, 2/25/20, 2/26/20, 2/27/20, 2/28/20, 2/29/20, 3/1/20, 3/2/20, 3/3/20, 3/4/20, 3/5/20, 3/6/20, 3/7/20, 3/8/20, 3/9/20, 3/10/20, 3/11/20, 3/12/20, 3/13/20, 3/14/20, 3/15/20, 3/16/20, 3/17/20, 3/18/20, 3/19/20, 3/20/20, 3/21/20, 3/22/20, 3/23/20, 3/24/20, 3/25/20, 3/26/20]\n",
       "Index: []\n",
       "\n",
       "[0 rows x 69 columns]"
      ]
     },
     "execution_count": 10,
     "metadata": {},
     "output_type": "execute_result"
    }
   ],
   "source": [
    "df[df[\"Country/Region\"] == 'South Korea']"
   ]
  },
  {
   "cell_type": "code",
   "execution_count": 43,
   "metadata": {},
   "outputs": [],
   "source": [
    "#df.iloc[116]"
   ]
  },
  {
   "cell_type": "markdown",
   "metadata": {},
   "source": [
    "# Compare Korea, Germany, Spain over the last 10 days"
   ]
  },
  {
   "cell_type": "code",
   "execution_count": 95,
   "metadata": {},
   "outputs": [
    {
     "data": {
      "text/html": [
       "<div>\n",
       "<style scoped>\n",
       "    .dataframe tbody tr th:only-of-type {\n",
       "        vertical-align: middle;\n",
       "    }\n",
       "\n",
       "    .dataframe tbody tr th {\n",
       "        vertical-align: top;\n",
       "    }\n",
       "\n",
       "    .dataframe thead th {\n",
       "        text-align: right;\n",
       "    }\n",
       "</style>\n",
       "<table border=\"1\" class=\"dataframe\">\n",
       "  <thead>\n",
       "    <tr style=\"text-align: right;\">\n",
       "      <th></th>\n",
       "      <th>3/18/20</th>\n",
       "      <th>3/19/20</th>\n",
       "      <th>3/20/20</th>\n",
       "      <th>3/21/20</th>\n",
       "      <th>3/22/20</th>\n",
       "      <th>3/23/20</th>\n",
       "      <th>3/24/20</th>\n",
       "      <th>3/25/20</th>\n",
       "      <th>3/26/20</th>\n",
       "      <th>3/27/20</th>\n",
       "    </tr>\n",
       "  </thead>\n",
       "  <tbody>\n",
       "    <tr>\n",
       "      <th>143</th>\n",
       "      <td>8413</td>\n",
       "      <td>8565</td>\n",
       "      <td>8652</td>\n",
       "      <td>8799</td>\n",
       "      <td>8961</td>\n",
       "      <td>8961</td>\n",
       "      <td>9037</td>\n",
       "      <td>9137</td>\n",
       "      <td>9241</td>\n",
       "      <td>9332</td>\n",
       "    </tr>\n",
       "    <tr>\n",
       "      <th>120</th>\n",
       "      <td>12327</td>\n",
       "      <td>15320</td>\n",
       "      <td>19848</td>\n",
       "      <td>22213</td>\n",
       "      <td>24873</td>\n",
       "      <td>29056</td>\n",
       "      <td>32986</td>\n",
       "      <td>37323</td>\n",
       "      <td>43938</td>\n",
       "      <td>50871</td>\n",
       "    </tr>\n",
       "    <tr>\n",
       "      <th>201</th>\n",
       "      <td>13910</td>\n",
       "      <td>17963</td>\n",
       "      <td>20410</td>\n",
       "      <td>25374</td>\n",
       "      <td>28768</td>\n",
       "      <td>35136</td>\n",
       "      <td>39885</td>\n",
       "      <td>49515</td>\n",
       "      <td>57786</td>\n",
       "      <td>65719</td>\n",
       "    </tr>\n",
       "  </tbody>\n",
       "</table>\n",
       "</div>"
      ],
      "text/plain": [
       "     3/18/20  3/19/20  3/20/20  3/21/20  3/22/20  3/23/20  3/24/20  3/25/20  \\\n",
       "143     8413     8565     8652     8799     8961     8961     9037     9137   \n",
       "120    12327    15320    19848    22213    24873    29056    32986    37323   \n",
       "201    13910    17963    20410    25374    28768    35136    39885    49515   \n",
       "\n",
       "     3/26/20  3/27/20  \n",
       "143     9241     9332  \n",
       "120    43938    50871  \n",
       "201    57786    65719  "
      ]
     },
     "execution_count": 95,
     "metadata": {},
     "output_type": "execute_result"
    }
   ],
   "source": [
    "dfc.iloc[[143,120,201],-10:]"
   ]
  },
  {
   "cell_type": "markdown",
   "metadata": {},
   "source": [
    "# Graph them just to see use logs :)"
   ]
  },
  {
   "cell_type": "code",
   "execution_count": 49,
   "metadata": {},
   "outputs": [
    {
     "name": "stdout",
     "output_type": "stream",
     "text": [
      "b France\n",
      "y Italy\n",
      "k Germany\n",
      "g Korea, South\n",
      "r Spain\n"
     ]
    },
    {
     "data": {
      "image/png": "[encoded data removed]",
      "text/plain": [
       "<Figure size 432x288 with 1 Axes>"
      ]
     },
     "metadata": {
      "needs_background": "light"
     },
     "output_type": "display_data"
    }
   ],
   "source": [
    "cc = [116,137,120,143,201]\n",
    "sty = ['r','g','k','y','b']\n",
    "\n",
    "labels = ['%s %s'%(x, df.iloc[y][\"Country/Region\"])  \n",
    "               for x,y in zip(reversed(sty[:]),cc) ]\n",
    "for x in cc:\n",
    "    Y = np.log( df.iloc[x].values[4:].astype(np.float) + 1)\n",
    "    plt.plot(np.arange(len(Y)),Y,sty.pop())\n",
    "\n",
    "print('\\n'.join(labels))"
   ]
  },
  {
   "cell_type": "markdown",
   "metadata": {},
   "source": [
    "# Linear regression\n",
    "\n",
    "If a quantity is growing/decaying exponentially \n",
    "then by taking logs we should get a straignt line....\n",
    "\n",
    "We can calculate the best fit straight line \n",
    "to the data by doing linear regression.\n",
    "\n"
   ]
  },
  {
   "cell_type": "code",
   "execution_count": 69,
   "metadata": {},
   "outputs": [],
   "source": [
    "from scipy import stats"
   ]
  },
  {
   "cell_type": "markdown",
   "metadata": {},
   "source": [
    "## for deaths first"
   ]
  },
  {
   "cell_type": "code",
   "execution_count": 96,
   "metadata": {},
   "outputs": [
    {
     "name": "stdout",
     "output_type": "stream",
     "text": [
      "France               0.25264589615638977 4.152675759292533\n",
      "Italy                0.14364273428062754 7.230471459358535\n",
      "Germany              0.2824131507562418 1.9874986942506387\n",
      "Korea, South         0.05319888678044416 4.191487489363024\n",
      "Spain                0.2582954661521452 5.0964734412112005\n"
     ]
    }
   ],
   "source": [
    "window = 15\n",
    "X = []\n",
    "for c in cc:\n",
    "    Y = np.log(df.iloc[c].values[ -window:].astype(np.float))\n",
    "    vv = stats.linregress(np.arange(window),Y )\n",
    "    print(df.iloc[c][\"Country/Region\"].ljust(20), vv.slope, vv.intercept)\n",
    "    X.append(vv.slope)"
   ]
  },
  {
   "cell_type": "markdown",
   "metadata": {},
   "source": [
    "## and this is confirmed cases"
   ]
  },
  {
   "cell_type": "code",
   "execution_count": 98,
   "metadata": {},
   "outputs": [
    {
     "name": "stdout",
     "output_type": "stream",
     "text": [
      "France               0.1585207663843137 8.262823201493632\n",
      "Italy                0.11309884873366075 9.893952599614787\n",
      "Germany              0.1875801072320229 8.363444903039284\n",
      "Korea, South         0.011460120485349019 8.984869560213461\n",
      "Spain                0.1814629218205776 8.627086523168698\n"
     ]
    }
   ],
   "source": [
    "window = 15\n",
    "Z = []\n",
    "for c in cc:\n",
    "    Y = np.log(dfc.iloc[c].values[ -window:].astype(np.float))\n",
    "    vv = stats.linregress(np.arange(window),Y )\n",
    "    print(dfc.iloc[c][\"Country/Region\"].ljust(20), vv.slope, vv.intercept)\n",
    "    Z.append(vv.slope)"
   ]
  },
  {
   "cell_type": "code",
   "execution_count": 103,
   "metadata": {},
   "outputs": [
    {
     "data": {
      "text/plain": [
       "['France', 'Italy', 'Germany', 'Korea, South', 'Spain']"
      ]
     },
     "execution_count": 103,
     "metadata": {},
     "output_type": "execute_result"
    }
   ],
   "source": [
    "labels = list(dfc.iloc[cc][\"Country/Region\"])\n",
    "labels"
   ]
  },
  {
   "cell_type": "code",
   "execution_count": 108,
   "metadata": {},
   "outputs": [
    {
     "data": {
      "text/plain": [
       "Text(0,0.5,'confirmed cases growth rate')"
      ]
     },
     "execution_count": 108,
     "metadata": {},
     "output_type": "execute_result"
    },
    {
     "data": {
      "image/png": "[encoded data removed]",
      "text/plain": [
       "<Figure size 432x288 with 1 Axes>"
      ]
     },
     "metadata": {
      "needs_background": "light"
     },
     "output_type": "display_data"
    }
   ],
   "source": [
    "labels = list(dfc.iloc[cc][\"Country/Region\"])\n",
    "for label, x, y in zip(labels, Z,X):\n",
    "    plt.annotate(\n",
    "        label,\n",
    "        xy=(x, y), xytext=(-10, 10),\n",
    "        textcoords='offset points', ha='right', va='bottom',\n",
    "        bbox=dict(boxstyle='round,pad=0.5', fc='yellow', alpha=0.5),\n",
    "        arrowprops=dict(arrowstyle = '->', connectionstyle='arc3,rad=0'))\n",
    "plt.plot(X,Z,'rx')\n",
    "plt.ylabel('mortality growth rate')\n",
    "plt.xlabel('confirmed cases growth rate')"
   ]
  },
  {
   "cell_type": "markdown",
   "metadata": {},
   "source": [
    "## Calculate rolling averages for some countries for the last 36 days\n",
    "\n",
    "\n",
    "this was something somebody asked me to do for another problem\n",
    "but it's a standard way of smoothing data."
   ]
  },
  {
   "cell_type": "code",
   "execution_count": 71,
   "metadata": {},
   "outputs": [
    {
     "data": {
      "text/plain": [
       "116          France\n",
       "137           Italy\n",
       "120         Germany\n",
       "143    Korea, South\n",
       "201           Spain\n",
       "Name: Country/Region, dtype: object"
      ]
     },
     "execution_count": 71,
     "metadata": {},
     "output_type": "execute_result"
    }
   ],
   "source": [
    "df.iloc[cc,1]"
   ]
  },
  {
   "cell_type": "code",
   "execution_count": 75,
   "metadata": {},
   "outputs": [],
   "source": [
    "start = -36\n",
    "data = [df.iloc[nn , start:].rolling(5).sum() for nn in cc ]\n",
    "filtered_data = [ x[x>0].values for x in data]"
   ]
  },
  {
   "cell_type": "code",
   "execution_count": 76,
   "metadata": {},
   "outputs": [
    {
     "name": "stdout",
     "output_type": "stream",
     "text": [
      "b France\n",
      "y Italy\n",
      "k Germany\n",
      "g Korea, South\n",
      "r Spain\n"
     ]
    },
    {
     "data": {
      "image/png": "[encoded data removed]",
      "text/plain": [
       "<Figure size 432x288 with 1 Axes>"
      ]
     },
     "metadata": {
      "needs_background": "light"
     },
     "output_type": "display_data"
    }
   ],
   "source": [
    "sty = ['r','g','k','y','b']\n",
    "for x in filtered_data:\n",
    "    plt.plot( np.arange(len(x)-1), x[1:]/x[:-1], sty.pop())\n",
    "print('\\n'.join(labels))"
   ]
  },
  {
   "cell_type": "code",
   "execution_count": null,
   "metadata": {},
   "outputs": [],
   "source": []
  }
 ],
 "metadata": {
  "kernelspec": {
   "display_name": "Python 3",
   "language": "python",
   "name": "python3"
  },
  "language_info": {
   "codemirror_mode": {
    "name": "ipython",
    "version": 3
   },
   "file_extension": ".py",
   "mimetype": "text/x-python",
   "name": "python",
   "nbconvert_exporter": "python",
   "pygments_lexer": "ipython3",
   "version": "3.6.5"
  }
 },
 "nbformat": 4,
 "nbformat_minor": 2
}
