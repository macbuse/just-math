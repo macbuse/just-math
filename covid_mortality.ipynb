{
 "cells": [
  {
   "cell_type": "markdown",
   "metadata": {},
   "source": [
    "# COVID mortality rates per country\n",
    "\n",
    "This is a naive analysis of the published  mortality rates for the COVID 19 pandemic.\n",
    "\n",
    "- pull the data from a csv on github\n",
    "- turn it into a Pandas DataFrame\n",
    "- do some filtering and a couple of plots\n",
    "\n",
    "I believe that **everyone** should be able to do this.\n",
    "Doing basic data analysis should be  like  what reading and writing\n",
    "was at the beginning of the 20th century - a basic skill \n",
    "taught to every child at school.\n",
    "\n",
    "The data is published [here](https://github.com/CSSEGISandData/COVID-19)\n",
    "\n",
    "**2019 Novel Coronavirus COVID-19 (2019-nCoV) Data Repository by Johns Hopkins CSSE**\n",
    "\n",
    "This is the data repository for the 2019 Novel Coronavirus Visual Dashboard operated by the Johns Hopkins University Center for Systems Science and Engineering (JHU CSSE). \n",
    "\n",
    "\n"
   ]
  },
  {
   "cell_type": "code",
   "execution_count": 1,
   "metadata": {},
   "outputs": [],
   "source": [
    "import requests\n",
    "\n",
    "import pandas as pd\n",
    "import numpy as np\n",
    "import matplotlib.pyplot as plt"
   ]
  },
  {
   "cell_type": "markdown",
   "metadata": {},
   "source": [
    "# Get the latest time series and save to disk"
   ]
  },
  {
   "cell_type": "code",
   "execution_count": 234,
   "metadata": {},
   "outputs": [],
   "source": [
    "root_dir = 'https://raw.githubusercontent.com/CSSEGISandData/COVID-19/master/csse_covid_19_data/csse_covid_19_time_series/'\n",
    "fn = 'time_series_covid19_%s_global.csv'\n",
    "\n",
    "for ss in ['deaths','confirmed']:\n",
    "    r = requests.get(root_dir + fn%ss, allow_redirects=True)\n",
    "    open('covid_%s.csv'%ss, 'wb').write(r.content)\n",
    "\n"
   ]
  },
  {
   "cell_type": "markdown",
   "metadata": {},
   "source": [
    "# Parse them to a DataFrames"
   ]
  },
  {
   "cell_type": "code",
   "execution_count": 235,
   "metadata": {},
   "outputs": [],
   "source": [
    "df = pd.read_csv('covid_deaths.csv')\n",
    "dfc = pd.read_csv('covid_confirmed.csv')"
   ]
  },
  {
   "cell_type": "code",
   "execution_count": 186,
   "metadata": {},
   "outputs": [
    {
     "data": {
      "text/html": [
       "<div>\n",
       "<style scoped>\n",
       "    .dataframe tbody tr th:only-of-type {\n",
       "        vertical-align: middle;\n",
       "    }\n",
       "\n",
       "    .dataframe tbody tr th {\n",
       "        vertical-align: top;\n",
       "    }\n",
       "\n",
       "    .dataframe thead th {\n",
       "        text-align: right;\n",
       "    }\n",
       "</style>\n",
       "<table border=\"1\" class=\"dataframe\">\n",
       "  <thead>\n",
       "    <tr style=\"text-align: right;\">\n",
       "      <th></th>\n",
       "      <th>Province/State</th>\n",
       "      <th>Country/Region</th>\n",
       "      <th>Lat</th>\n",
       "      <th>Long</th>\n",
       "      <th>1/22/20</th>\n",
       "      <th>1/23/20</th>\n",
       "      <th>1/24/20</th>\n",
       "      <th>1/25/20</th>\n",
       "      <th>1/26/20</th>\n",
       "      <th>1/27/20</th>\n",
       "      <th>...</th>\n",
       "      <th>3/24/20</th>\n",
       "      <th>3/25/20</th>\n",
       "      <th>3/26/20</th>\n",
       "      <th>3/27/20</th>\n",
       "      <th>3/28/20</th>\n",
       "      <th>3/29/20</th>\n",
       "      <th>3/30/20</th>\n",
       "      <th>3/31/20</th>\n",
       "      <th>4/1/20</th>\n",
       "      <th>4/2/20</th>\n",
       "    </tr>\n",
       "  </thead>\n",
       "  <tbody>\n",
       "    <tr>\n",
       "      <th>140</th>\n",
       "      <td>NaN</td>\n",
       "      <td>Jordan</td>\n",
       "      <td>31.2400</td>\n",
       "      <td>36.5100</td>\n",
       "      <td>0</td>\n",
       "      <td>0</td>\n",
       "      <td>0</td>\n",
       "      <td>0</td>\n",
       "      <td>0</td>\n",
       "      <td>0</td>\n",
       "      <td>...</td>\n",
       "      <td>154</td>\n",
       "      <td>172</td>\n",
       "      <td>212</td>\n",
       "      <td>235</td>\n",
       "      <td>246</td>\n",
       "      <td>259</td>\n",
       "      <td>268</td>\n",
       "      <td>274</td>\n",
       "      <td>278</td>\n",
       "      <td>299</td>\n",
       "    </tr>\n",
       "    <tr>\n",
       "      <th>141</th>\n",
       "      <td>NaN</td>\n",
       "      <td>Kazakhstan</td>\n",
       "      <td>48.0196</td>\n",
       "      <td>66.9237</td>\n",
       "      <td>0</td>\n",
       "      <td>0</td>\n",
       "      <td>0</td>\n",
       "      <td>0</td>\n",
       "      <td>0</td>\n",
       "      <td>0</td>\n",
       "      <td>...</td>\n",
       "      <td>72</td>\n",
       "      <td>81</td>\n",
       "      <td>111</td>\n",
       "      <td>150</td>\n",
       "      <td>228</td>\n",
       "      <td>284</td>\n",
       "      <td>302</td>\n",
       "      <td>343</td>\n",
       "      <td>380</td>\n",
       "      <td>435</td>\n",
       "    </tr>\n",
       "    <tr>\n",
       "      <th>142</th>\n",
       "      <td>NaN</td>\n",
       "      <td>Kenya</td>\n",
       "      <td>-0.0236</td>\n",
       "      <td>37.9062</td>\n",
       "      <td>0</td>\n",
       "      <td>0</td>\n",
       "      <td>0</td>\n",
       "      <td>0</td>\n",
       "      <td>0</td>\n",
       "      <td>0</td>\n",
       "      <td>...</td>\n",
       "      <td>25</td>\n",
       "      <td>28</td>\n",
       "      <td>31</td>\n",
       "      <td>31</td>\n",
       "      <td>38</td>\n",
       "      <td>42</td>\n",
       "      <td>50</td>\n",
       "      <td>59</td>\n",
       "      <td>81</td>\n",
       "      <td>110</td>\n",
       "    </tr>\n",
       "    <tr>\n",
       "      <th>143</th>\n",
       "      <td>NaN</td>\n",
       "      <td>Korea, South</td>\n",
       "      <td>36.0000</td>\n",
       "      <td>128.0000</td>\n",
       "      <td>1</td>\n",
       "      <td>1</td>\n",
       "      <td>2</td>\n",
       "      <td>2</td>\n",
       "      <td>3</td>\n",
       "      <td>4</td>\n",
       "      <td>...</td>\n",
       "      <td>9037</td>\n",
       "      <td>9137</td>\n",
       "      <td>9241</td>\n",
       "      <td>9332</td>\n",
       "      <td>9478</td>\n",
       "      <td>9583</td>\n",
       "      <td>9661</td>\n",
       "      <td>9786</td>\n",
       "      <td>9887</td>\n",
       "      <td>9976</td>\n",
       "    </tr>\n",
       "    <tr>\n",
       "      <th>144</th>\n",
       "      <td>NaN</td>\n",
       "      <td>Kuwait</td>\n",
       "      <td>29.5000</td>\n",
       "      <td>47.7500</td>\n",
       "      <td>0</td>\n",
       "      <td>0</td>\n",
       "      <td>0</td>\n",
       "      <td>0</td>\n",
       "      <td>0</td>\n",
       "      <td>0</td>\n",
       "      <td>...</td>\n",
       "      <td>191</td>\n",
       "      <td>195</td>\n",
       "      <td>208</td>\n",
       "      <td>225</td>\n",
       "      <td>235</td>\n",
       "      <td>255</td>\n",
       "      <td>266</td>\n",
       "      <td>289</td>\n",
       "      <td>317</td>\n",
       "      <td>342</td>\n",
       "    </tr>\n",
       "  </tbody>\n",
       "</table>\n",
       "<p>5 rows × 76 columns</p>\n",
       "</div>"
      ],
      "text/plain": [
       "    Province/State Country/Region      Lat      Long  1/22/20  1/23/20  \\\n",
       "140            NaN         Jordan  31.2400   36.5100        0        0   \n",
       "141            NaN     Kazakhstan  48.0196   66.9237        0        0   \n",
       "142            NaN          Kenya  -0.0236   37.9062        0        0   \n",
       "143            NaN   Korea, South  36.0000  128.0000        1        1   \n",
       "144            NaN         Kuwait  29.5000   47.7500        0        0   \n",
       "\n",
       "     1/24/20  1/25/20  1/26/20  1/27/20  ...  3/24/20  3/25/20  3/26/20  \\\n",
       "140        0        0        0        0  ...      154      172      212   \n",
       "141        0        0        0        0  ...       72       81      111   \n",
       "142        0        0        0        0  ...       25       28       31   \n",
       "143        2        2        3        4  ...     9037     9137     9241   \n",
       "144        0        0        0        0  ...      191      195      208   \n",
       "\n",
       "     3/27/20  3/28/20  3/29/20  3/30/20  3/31/20  4/1/20  4/2/20  \n",
       "140      235      246      259      268      274     278     299  \n",
       "141      150      228      284      302      343     380     435  \n",
       "142       31       38       42       50       59      81     110  \n",
       "143     9332     9478     9583     9661     9786    9887    9976  \n",
       "144      225      235      255      266      289     317     342  \n",
       "\n",
       "[5 rows x 76 columns]"
      ]
     },
     "execution_count": 186,
     "metadata": {},
     "output_type": "execute_result"
    }
   ],
   "source": [
    "dfc[140:145]"
   ]
  },
  {
   "cell_type": "code",
   "execution_count": 77,
   "metadata": {},
   "outputs": [
    {
     "data": {
      "text/html": [
       "<div>\n",
       "<style scoped>\n",
       "    .dataframe tbody tr th:only-of-type {\n",
       "        vertical-align: middle;\n",
       "    }\n",
       "\n",
       "    .dataframe tbody tr th {\n",
       "        vertical-align: top;\n",
       "    }\n",
       "\n",
       "    .dataframe thead th {\n",
       "        text-align: right;\n",
       "    }\n",
       "</style>\n",
       "<table border=\"1\" class=\"dataframe\">\n",
       "  <thead>\n",
       "    <tr style=\"text-align: right;\">\n",
       "      <th></th>\n",
       "      <th>Province/State</th>\n",
       "      <th>Country/Region</th>\n",
       "      <th>Lat</th>\n",
       "      <th>Long</th>\n",
       "      <th>1/22/20</th>\n",
       "      <th>1/23/20</th>\n",
       "      <th>1/24/20</th>\n",
       "      <th>1/25/20</th>\n",
       "      <th>1/26/20</th>\n",
       "      <th>1/27/20</th>\n",
       "      <th>...</th>\n",
       "      <th>3/22/20</th>\n",
       "      <th>3/23/20</th>\n",
       "      <th>3/24/20</th>\n",
       "      <th>3/25/20</th>\n",
       "      <th>3/26/20</th>\n",
       "      <th>3/27/20</th>\n",
       "      <th>3/28/20</th>\n",
       "      <th>3/29/20</th>\n",
       "      <th>3/30/20</th>\n",
       "      <th>3/31/20</th>\n",
       "    </tr>\n",
       "  </thead>\n",
       "  <tbody>\n",
       "  </tbody>\n",
       "</table>\n",
       "<p>0 rows × 74 columns</p>\n",
       "</div>"
      ],
      "text/plain": [
       "Empty DataFrame\n",
       "Columns: [Province/State, Country/Region, Lat, Long, 1/22/20, 1/23/20, 1/24/20, 1/25/20, 1/26/20, 1/27/20, 1/28/20, 1/29/20, 1/30/20, 1/31/20, 2/1/20, 2/2/20, 2/3/20, 2/4/20, 2/5/20, 2/6/20, 2/7/20, 2/8/20, 2/9/20, 2/10/20, 2/11/20, 2/12/20, 2/13/20, 2/14/20, 2/15/20, 2/16/20, 2/17/20, 2/18/20, 2/19/20, 2/20/20, 2/21/20, 2/22/20, 2/23/20, 2/24/20, 2/25/20, 2/26/20, 2/27/20, 2/28/20, 2/29/20, 3/1/20, 3/2/20, 3/3/20, 3/4/20, 3/5/20, 3/6/20, 3/7/20, 3/8/20, 3/9/20, 3/10/20, 3/11/20, 3/12/20, 3/13/20, 3/14/20, 3/15/20, 3/16/20, 3/17/20, 3/18/20, 3/19/20, 3/20/20, 3/21/20, 3/22/20, 3/23/20, 3/24/20, 3/25/20, 3/26/20, 3/27/20, 3/28/20, 3/29/20, 3/30/20, 3/31/20]\n",
       "Index: []\n",
       "\n",
       "[0 rows x 74 columns]"
      ]
     },
     "execution_count": 77,
     "metadata": {},
     "output_type": "execute_result"
    }
   ],
   "source": [
    "df[df[\"Country/Region\"] == 'South Korea']"
   ]
  },
  {
   "cell_type": "markdown",
   "metadata": {},
   "source": [
    "# Foyers\n",
    "\n",
    "These are the hotspots for the pandemic\n",
    "- I chose 300 because I can catch Germany like that"
   ]
  },
  {
   "cell_type": "code",
   "execution_count": 236,
   "metadata": {},
   "outputs": [
    {
     "data": {
      "text/html": [
       "<div>\n",
       "<style scoped>\n",
       "    .dataframe tbody tr th:only-of-type {\n",
       "        vertical-align: middle;\n",
       "    }\n",
       "\n",
       "    .dataframe tbody tr th {\n",
       "        vertical-align: top;\n",
       "    }\n",
       "\n",
       "    .dataframe thead th {\n",
       "        text-align: right;\n",
       "    }\n",
       "</style>\n",
       "<table border=\"1\" class=\"dataframe\">\n",
       "  <thead>\n",
       "    <tr style=\"text-align: right;\">\n",
       "      <th></th>\n",
       "      <th>Province/State</th>\n",
       "      <th>Country/Region</th>\n",
       "      <th>Lat</th>\n",
       "      <th>Long</th>\n",
       "      <th>1/22/20</th>\n",
       "      <th>1/23/20</th>\n",
       "      <th>1/24/20</th>\n",
       "      <th>1/25/20</th>\n",
       "      <th>1/26/20</th>\n",
       "      <th>1/27/20</th>\n",
       "      <th>...</th>\n",
       "      <th>3/26/20</th>\n",
       "      <th>3/27/20</th>\n",
       "      <th>3/28/20</th>\n",
       "      <th>3/29/20</th>\n",
       "      <th>3/30/20</th>\n",
       "      <th>3/31/20</th>\n",
       "      <th>4/1/20</th>\n",
       "      <th>4/2/20</th>\n",
       "      <th>4/3/20</th>\n",
       "      <th>4/4/20</th>\n",
       "    </tr>\n",
       "  </thead>\n",
       "  <tbody>\n",
       "    <tr>\n",
       "      <th>23</th>\n",
       "      <td>NaN</td>\n",
       "      <td>Belgium</td>\n",
       "      <td>50.8333</td>\n",
       "      <td>4.0000</td>\n",
       "      <td>0</td>\n",
       "      <td>0</td>\n",
       "      <td>0</td>\n",
       "      <td>0</td>\n",
       "      <td>0</td>\n",
       "      <td>0</td>\n",
       "      <td>...</td>\n",
       "      <td>220</td>\n",
       "      <td>289</td>\n",
       "      <td>353</td>\n",
       "      <td>431</td>\n",
       "      <td>513</td>\n",
       "      <td>705</td>\n",
       "      <td>828</td>\n",
       "      <td>1011</td>\n",
       "      <td>1143</td>\n",
       "      <td>1283</td>\n",
       "    </tr>\n",
       "    <tr>\n",
       "      <th>28</th>\n",
       "      <td>NaN</td>\n",
       "      <td>Brazil</td>\n",
       "      <td>-14.2350</td>\n",
       "      <td>-51.9253</td>\n",
       "      <td>0</td>\n",
       "      <td>0</td>\n",
       "      <td>0</td>\n",
       "      <td>0</td>\n",
       "      <td>0</td>\n",
       "      <td>0</td>\n",
       "      <td>...</td>\n",
       "      <td>77</td>\n",
       "      <td>92</td>\n",
       "      <td>111</td>\n",
       "      <td>136</td>\n",
       "      <td>159</td>\n",
       "      <td>201</td>\n",
       "      <td>240</td>\n",
       "      <td>324</td>\n",
       "      <td>359</td>\n",
       "      <td>445</td>\n",
       "    </tr>\n",
       "    <tr>\n",
       "      <th>62</th>\n",
       "      <td>Hubei</td>\n",
       "      <td>China</td>\n",
       "      <td>30.9756</td>\n",
       "      <td>112.2707</td>\n",
       "      <td>17</td>\n",
       "      <td>17</td>\n",
       "      <td>24</td>\n",
       "      <td>40</td>\n",
       "      <td>52</td>\n",
       "      <td>76</td>\n",
       "      <td>...</td>\n",
       "      <td>3169</td>\n",
       "      <td>3174</td>\n",
       "      <td>3177</td>\n",
       "      <td>3182</td>\n",
       "      <td>3186</td>\n",
       "      <td>3187</td>\n",
       "      <td>3193</td>\n",
       "      <td>3199</td>\n",
       "      <td>3203</td>\n",
       "      <td>3207</td>\n",
       "    </tr>\n",
       "    <tr>\n",
       "      <th>116</th>\n",
       "      <td>NaN</td>\n",
       "      <td>France</td>\n",
       "      <td>46.2276</td>\n",
       "      <td>2.2137</td>\n",
       "      <td>0</td>\n",
       "      <td>0</td>\n",
       "      <td>0</td>\n",
       "      <td>0</td>\n",
       "      <td>0</td>\n",
       "      <td>0</td>\n",
       "      <td>...</td>\n",
       "      <td>1696</td>\n",
       "      <td>1995</td>\n",
       "      <td>2314</td>\n",
       "      <td>2606</td>\n",
       "      <td>3024</td>\n",
       "      <td>3523</td>\n",
       "      <td>4032</td>\n",
       "      <td>5387</td>\n",
       "      <td>6507</td>\n",
       "      <td>7560</td>\n",
       "    </tr>\n",
       "    <tr>\n",
       "      <th>120</th>\n",
       "      <td>NaN</td>\n",
       "      <td>Germany</td>\n",
       "      <td>51.0000</td>\n",
       "      <td>9.0000</td>\n",
       "      <td>0</td>\n",
       "      <td>0</td>\n",
       "      <td>0</td>\n",
       "      <td>0</td>\n",
       "      <td>0</td>\n",
       "      <td>0</td>\n",
       "      <td>...</td>\n",
       "      <td>267</td>\n",
       "      <td>342</td>\n",
       "      <td>433</td>\n",
       "      <td>533</td>\n",
       "      <td>645</td>\n",
       "      <td>775</td>\n",
       "      <td>920</td>\n",
       "      <td>1107</td>\n",
       "      <td>1275</td>\n",
       "      <td>1444</td>\n",
       "    </tr>\n",
       "    <tr>\n",
       "      <th>133</th>\n",
       "      <td>NaN</td>\n",
       "      <td>Iran</td>\n",
       "      <td>32.0000</td>\n",
       "      <td>53.0000</td>\n",
       "      <td>0</td>\n",
       "      <td>0</td>\n",
       "      <td>0</td>\n",
       "      <td>0</td>\n",
       "      <td>0</td>\n",
       "      <td>0</td>\n",
       "      <td>...</td>\n",
       "      <td>2234</td>\n",
       "      <td>2378</td>\n",
       "      <td>2517</td>\n",
       "      <td>2640</td>\n",
       "      <td>2757</td>\n",
       "      <td>2898</td>\n",
       "      <td>3036</td>\n",
       "      <td>3160</td>\n",
       "      <td>3294</td>\n",
       "      <td>3452</td>\n",
       "    </tr>\n",
       "    <tr>\n",
       "      <th>137</th>\n",
       "      <td>NaN</td>\n",
       "      <td>Italy</td>\n",
       "      <td>43.0000</td>\n",
       "      <td>12.0000</td>\n",
       "      <td>0</td>\n",
       "      <td>0</td>\n",
       "      <td>0</td>\n",
       "      <td>0</td>\n",
       "      <td>0</td>\n",
       "      <td>0</td>\n",
       "      <td>...</td>\n",
       "      <td>8215</td>\n",
       "      <td>9134</td>\n",
       "      <td>10023</td>\n",
       "      <td>10779</td>\n",
       "      <td>11591</td>\n",
       "      <td>12428</td>\n",
       "      <td>13155</td>\n",
       "      <td>13915</td>\n",
       "      <td>14681</td>\n",
       "      <td>15362</td>\n",
       "    </tr>\n",
       "    <tr>\n",
       "      <th>169</th>\n",
       "      <td>NaN</td>\n",
       "      <td>Netherlands</td>\n",
       "      <td>52.1326</td>\n",
       "      <td>5.2913</td>\n",
       "      <td>0</td>\n",
       "      <td>0</td>\n",
       "      <td>0</td>\n",
       "      <td>0</td>\n",
       "      <td>0</td>\n",
       "      <td>0</td>\n",
       "      <td>...</td>\n",
       "      <td>434</td>\n",
       "      <td>546</td>\n",
       "      <td>639</td>\n",
       "      <td>771</td>\n",
       "      <td>864</td>\n",
       "      <td>1039</td>\n",
       "      <td>1173</td>\n",
       "      <td>1339</td>\n",
       "      <td>1487</td>\n",
       "      <td>1651</td>\n",
       "    </tr>\n",
       "    <tr>\n",
       "      <th>184</th>\n",
       "      <td>NaN</td>\n",
       "      <td>Portugal</td>\n",
       "      <td>39.3999</td>\n",
       "      <td>-8.2245</td>\n",
       "      <td>0</td>\n",
       "      <td>0</td>\n",
       "      <td>0</td>\n",
       "      <td>0</td>\n",
       "      <td>0</td>\n",
       "      <td>0</td>\n",
       "      <td>...</td>\n",
       "      <td>60</td>\n",
       "      <td>76</td>\n",
       "      <td>100</td>\n",
       "      <td>119</td>\n",
       "      <td>140</td>\n",
       "      <td>160</td>\n",
       "      <td>187</td>\n",
       "      <td>209</td>\n",
       "      <td>246</td>\n",
       "      <td>266</td>\n",
       "    </tr>\n",
       "    <tr>\n",
       "      <th>201</th>\n",
       "      <td>NaN</td>\n",
       "      <td>Spain</td>\n",
       "      <td>40.0000</td>\n",
       "      <td>-4.0000</td>\n",
       "      <td>0</td>\n",
       "      <td>0</td>\n",
       "      <td>0</td>\n",
       "      <td>0</td>\n",
       "      <td>0</td>\n",
       "      <td>0</td>\n",
       "      <td>...</td>\n",
       "      <td>4365</td>\n",
       "      <td>5138</td>\n",
       "      <td>5982</td>\n",
       "      <td>6803</td>\n",
       "      <td>7716</td>\n",
       "      <td>8464</td>\n",
       "      <td>9387</td>\n",
       "      <td>10348</td>\n",
       "      <td>11198</td>\n",
       "      <td>11947</td>\n",
       "    </tr>\n",
       "    <tr>\n",
       "      <th>205</th>\n",
       "      <td>NaN</td>\n",
       "      <td>Sweden</td>\n",
       "      <td>63.0000</td>\n",
       "      <td>16.0000</td>\n",
       "      <td>0</td>\n",
       "      <td>0</td>\n",
       "      <td>0</td>\n",
       "      <td>0</td>\n",
       "      <td>0</td>\n",
       "      <td>0</td>\n",
       "      <td>...</td>\n",
       "      <td>77</td>\n",
       "      <td>105</td>\n",
       "      <td>105</td>\n",
       "      <td>110</td>\n",
       "      <td>146</td>\n",
       "      <td>180</td>\n",
       "      <td>239</td>\n",
       "      <td>308</td>\n",
       "      <td>358</td>\n",
       "      <td>373</td>\n",
       "    </tr>\n",
       "    <tr>\n",
       "      <th>206</th>\n",
       "      <td>NaN</td>\n",
       "      <td>Switzerland</td>\n",
       "      <td>46.8182</td>\n",
       "      <td>8.2275</td>\n",
       "      <td>0</td>\n",
       "      <td>0</td>\n",
       "      <td>0</td>\n",
       "      <td>0</td>\n",
       "      <td>0</td>\n",
       "      <td>0</td>\n",
       "      <td>...</td>\n",
       "      <td>191</td>\n",
       "      <td>231</td>\n",
       "      <td>264</td>\n",
       "      <td>300</td>\n",
       "      <td>359</td>\n",
       "      <td>433</td>\n",
       "      <td>488</td>\n",
       "      <td>536</td>\n",
       "      <td>591</td>\n",
       "      <td>666</td>\n",
       "    </tr>\n",
       "    <tr>\n",
       "      <th>213</th>\n",
       "      <td>NaN</td>\n",
       "      <td>Turkey</td>\n",
       "      <td>38.9637</td>\n",
       "      <td>35.2433</td>\n",
       "      <td>0</td>\n",
       "      <td>0</td>\n",
       "      <td>0</td>\n",
       "      <td>0</td>\n",
       "      <td>0</td>\n",
       "      <td>0</td>\n",
       "      <td>...</td>\n",
       "      <td>75</td>\n",
       "      <td>92</td>\n",
       "      <td>108</td>\n",
       "      <td>131</td>\n",
       "      <td>168</td>\n",
       "      <td>214</td>\n",
       "      <td>277</td>\n",
       "      <td>356</td>\n",
       "      <td>425</td>\n",
       "      <td>501</td>\n",
       "    </tr>\n",
       "    <tr>\n",
       "      <th>223</th>\n",
       "      <td>NaN</td>\n",
       "      <td>United Kingdom</td>\n",
       "      <td>55.3781</td>\n",
       "      <td>-3.4360</td>\n",
       "      <td>0</td>\n",
       "      <td>0</td>\n",
       "      <td>0</td>\n",
       "      <td>0</td>\n",
       "      <td>0</td>\n",
       "      <td>0</td>\n",
       "      <td>...</td>\n",
       "      <td>578</td>\n",
       "      <td>759</td>\n",
       "      <td>1019</td>\n",
       "      <td>1228</td>\n",
       "      <td>1408</td>\n",
       "      <td>1789</td>\n",
       "      <td>2352</td>\n",
       "      <td>2921</td>\n",
       "      <td>3605</td>\n",
       "      <td>4313</td>\n",
       "    </tr>\n",
       "    <tr>\n",
       "      <th>225</th>\n",
       "      <td>NaN</td>\n",
       "      <td>US</td>\n",
       "      <td>37.0902</td>\n",
       "      <td>-95.7129</td>\n",
       "      <td>0</td>\n",
       "      <td>0</td>\n",
       "      <td>0</td>\n",
       "      <td>0</td>\n",
       "      <td>0</td>\n",
       "      <td>0</td>\n",
       "      <td>...</td>\n",
       "      <td>1209</td>\n",
       "      <td>1581</td>\n",
       "      <td>2026</td>\n",
       "      <td>2467</td>\n",
       "      <td>2978</td>\n",
       "      <td>3873</td>\n",
       "      <td>4757</td>\n",
       "      <td>5926</td>\n",
       "      <td>7087</td>\n",
       "      <td>8407</td>\n",
       "    </tr>\n",
       "  </tbody>\n",
       "</table>\n",
       "<p>15 rows × 78 columns</p>\n",
       "</div>"
      ],
      "text/plain": [
       "    Province/State  Country/Region      Lat      Long  1/22/20  1/23/20  \\\n",
       "23             NaN         Belgium  50.8333    4.0000        0        0   \n",
       "28             NaN          Brazil -14.2350  -51.9253        0        0   \n",
       "62           Hubei           China  30.9756  112.2707       17       17   \n",
       "116            NaN          France  46.2276    2.2137        0        0   \n",
       "120            NaN         Germany  51.0000    9.0000        0        0   \n",
       "133            NaN            Iran  32.0000   53.0000        0        0   \n",
       "137            NaN           Italy  43.0000   12.0000        0        0   \n",
       "169            NaN     Netherlands  52.1326    5.2913        0        0   \n",
       "184            NaN        Portugal  39.3999   -8.2245        0        0   \n",
       "201            NaN           Spain  40.0000   -4.0000        0        0   \n",
       "205            NaN          Sweden  63.0000   16.0000        0        0   \n",
       "206            NaN     Switzerland  46.8182    8.2275        0        0   \n",
       "213            NaN          Turkey  38.9637   35.2433        0        0   \n",
       "223            NaN  United Kingdom  55.3781   -3.4360        0        0   \n",
       "225            NaN              US  37.0902  -95.7129        0        0   \n",
       "\n",
       "     1/24/20  1/25/20  1/26/20  1/27/20  ...  3/26/20  3/27/20  3/28/20  \\\n",
       "23         0        0        0        0  ...      220      289      353   \n",
       "28         0        0        0        0  ...       77       92      111   \n",
       "62        24       40       52       76  ...     3169     3174     3177   \n",
       "116        0        0        0        0  ...     1696     1995     2314   \n",
       "120        0        0        0        0  ...      267      342      433   \n",
       "133        0        0        0        0  ...     2234     2378     2517   \n",
       "137        0        0        0        0  ...     8215     9134    10023   \n",
       "169        0        0        0        0  ...      434      546      639   \n",
       "184        0        0        0        0  ...       60       76      100   \n",
       "201        0        0        0        0  ...     4365     5138     5982   \n",
       "205        0        0        0        0  ...       77      105      105   \n",
       "206        0        0        0        0  ...      191      231      264   \n",
       "213        0        0        0        0  ...       75       92      108   \n",
       "223        0        0        0        0  ...      578      759     1019   \n",
       "225        0        0        0        0  ...     1209     1581     2026   \n",
       "\n",
       "     3/29/20  3/30/20  3/31/20  4/1/20  4/2/20  4/3/20  4/4/20  \n",
       "23       431      513      705     828    1011    1143    1283  \n",
       "28       136      159      201     240     324     359     445  \n",
       "62      3182     3186     3187    3193    3199    3203    3207  \n",
       "116     2606     3024     3523    4032    5387    6507    7560  \n",
       "120      533      645      775     920    1107    1275    1444  \n",
       "133     2640     2757     2898    3036    3160    3294    3452  \n",
       "137    10779    11591    12428   13155   13915   14681   15362  \n",
       "169      771      864     1039    1173    1339    1487    1651  \n",
       "184      119      140      160     187     209     246     266  \n",
       "201     6803     7716     8464    9387   10348   11198   11947  \n",
       "205      110      146      180     239     308     358     373  \n",
       "206      300      359      433     488     536     591     666  \n",
       "213      131      168      214     277     356     425     501  \n",
       "223     1228     1408     1789    2352    2921    3605    4313  \n",
       "225     2467     2978     3873    4757    5926    7087    8407  \n",
       "\n",
       "[15 rows x 78 columns]"
      ]
     },
     "execution_count": 236,
     "metadata": {},
     "output_type": "execute_result"
    }
   ],
   "source": [
    "foyers = df[df[df.columns[-1]] > 200]\n",
    "foyers"
   ]
  },
  {
   "cell_type": "code",
   "execution_count": 248,
   "metadata": {},
   "outputs": [
    {
     "data": {
      "text/plain": [
       "Text(0,0.5,'log(deaths)')"
      ]
     },
     "execution_count": 248,
     "metadata": {},
     "output_type": "execute_result"
    },
    {
     "data": {
      "image/png": "[encoded data removed]",
      "text/plain": [
       "<Figure size 576x576 with 1 Axes>"
      ]
     },
     "metadata": {
      "needs_background": "light"
     },
     "output_type": "display_data"
    }
   ],
   "source": [
    "fig, ax = plt.subplots()\n",
    "fig.set_size_inches(8,8)\n",
    "\n",
    "for x in foyers.index:\n",
    "    if df.iloc[x][\"Country/Region\"] in ['China']: continue\n",
    "    Y = np.log( df.iloc[x].values[4:].astype(np.float) + 1)\n",
    "    ax.plot(np.arange(len(Y)),Y, label=df.iloc[x][\"Country/Region\"])\n",
    "\n",
    "#ax.axis('equal')\n",
    "leg = ax.legend()\n",
    "plt.xlabel('time in days')\n",
    "plt.ylabel('log(deaths)')"
   ]
  },
  {
   "cell_type": "markdown",
   "metadata": {},
   "source": [
    "so the graph shows log(deaths) "
   ]
  },
  {
   "cell_type": "code",
   "execution_count": 247,
   "metadata": {},
   "outputs": [
    {
     "data": {
      "image/png": "[encoded data removed]",
      "text/plain": [
       "<Figure size 576x576 with 1 Axes>"
      ]
     },
     "metadata": {
      "needs_background": "light"
     },
     "output_type": "display_data"
    }
   ],
   "source": [
    "sss = df[df[df.columns[-1]] > 2000]\n",
    "fig, ax = plt.subplots()\n",
    "fig.set_size_inches(8,8)\n",
    "for k in sss.index:\n",
    "    x = df.iloc[k,4:].values\n",
    "    x[1:] - x[:-1]\n",
    "    ax.plot(x[1:] - x[:-1], label=df.iloc[k][\"Country/Region\"])\n",
    "    \n",
    "leg = ax.legend()\n",
    "\n"
   ]
  },
  {
   "cell_type": "code",
   "execution_count": 239,
   "metadata": {},
   "outputs": [
    {
     "name": "stdout",
     "output_type": "stream",
     "text": [
      "France     [292 418 499 509 1355 1120 1053]\n",
      "Spain      [821 913 748 923 961 850 749]\n",
      "Italy      [756 812 837 727 760 766 681]\n"
     ]
    }
   ],
   "source": [
    "for k in [116,201,137]:\n",
    "    x = df.iloc[k,4:].values\n",
    "    u = x[1:] - x[:-1]\n",
    "    print(df.iloc[k,1].ljust(10),u[-7:])"
   ]
  },
  {
   "cell_type": "markdown",
   "metadata": {},
   "source": [
    "# Compare Korea, Germany, Spain over the last 10 days"
   ]
  },
  {
   "cell_type": "code",
   "execution_count": 190,
   "metadata": {},
   "outputs": [
    {
     "data": {
      "text/html": [
       "<div>\n",
       "<style scoped>\n",
       "    .dataframe tbody tr th:only-of-type {\n",
       "        vertical-align: middle;\n",
       "    }\n",
       "\n",
       "    .dataframe tbody tr th {\n",
       "        vertical-align: top;\n",
       "    }\n",
       "\n",
       "    .dataframe thead th {\n",
       "        text-align: right;\n",
       "    }\n",
       "</style>\n",
       "<table border=\"1\" class=\"dataframe\">\n",
       "  <thead>\n",
       "    <tr style=\"text-align: right;\">\n",
       "      <th></th>\n",
       "      <th>3/24/20</th>\n",
       "      <th>3/25/20</th>\n",
       "      <th>3/26/20</th>\n",
       "      <th>3/27/20</th>\n",
       "      <th>3/28/20</th>\n",
       "      <th>3/29/20</th>\n",
       "      <th>3/30/20</th>\n",
       "      <th>3/31/20</th>\n",
       "      <th>4/1/20</th>\n",
       "      <th>4/2/20</th>\n",
       "    </tr>\n",
       "  </thead>\n",
       "  <tbody>\n",
       "    <tr>\n",
       "      <th>143</th>\n",
       "      <td>9037</td>\n",
       "      <td>9137</td>\n",
       "      <td>9241</td>\n",
       "      <td>9332</td>\n",
       "      <td>9478</td>\n",
       "      <td>9583</td>\n",
       "      <td>9661</td>\n",
       "      <td>9786</td>\n",
       "      <td>9887</td>\n",
       "      <td>9976</td>\n",
       "    </tr>\n",
       "    <tr>\n",
       "      <th>120</th>\n",
       "      <td>32986</td>\n",
       "      <td>37323</td>\n",
       "      <td>43938</td>\n",
       "      <td>50871</td>\n",
       "      <td>57695</td>\n",
       "      <td>62095</td>\n",
       "      <td>66885</td>\n",
       "      <td>71808</td>\n",
       "      <td>77872</td>\n",
       "      <td>84794</td>\n",
       "    </tr>\n",
       "    <tr>\n",
       "      <th>201</th>\n",
       "      <td>39885</td>\n",
       "      <td>49515</td>\n",
       "      <td>57786</td>\n",
       "      <td>65719</td>\n",
       "      <td>73235</td>\n",
       "      <td>80110</td>\n",
       "      <td>87956</td>\n",
       "      <td>95923</td>\n",
       "      <td>104118</td>\n",
       "      <td>112065</td>\n",
       "    </tr>\n",
       "  </tbody>\n",
       "</table>\n",
       "</div>"
      ],
      "text/plain": [
       "     3/24/20  3/25/20  3/26/20  3/27/20  3/28/20  3/29/20  3/30/20  3/31/20  \\\n",
       "143     9037     9137     9241     9332     9478     9583     9661     9786   \n",
       "120    32986    37323    43938    50871    57695    62095    66885    71808   \n",
       "201    39885    49515    57786    65719    73235    80110    87956    95923   \n",
       "\n",
       "     4/1/20  4/2/20  \n",
       "143    9887    9976  \n",
       "120   77872   84794  \n",
       "201  104118  112065  "
      ]
     },
     "execution_count": 190,
     "metadata": {},
     "output_type": "execute_result"
    }
   ],
   "source": [
    "dfc.iloc[[143,120,201],-10:]"
   ]
  },
  {
   "cell_type": "markdown",
   "metadata": {},
   "source": [
    "# Linear regression\n",
    "\n",
    "If a quantity is growing/decaying exponentially \n",
    "then by taking logs we should get a straignt line....\n",
    "\n",
    "We can calculate the best fit straight line \n",
    "to the data by doing linear regression.\n",
    "\n"
   ]
  },
  {
   "cell_type": "code",
   "execution_count": 168,
   "metadata": {},
   "outputs": [],
   "source": [
    "from scipy import stats\n",
    "\n",
    "\n",
    "def lin_reg(mdf, indices, window = 10):\n",
    "    X = []\n",
    "    for c in indices:\n",
    "        Y = mdf.iloc[c].values[ -window:].astype(np.float)\n",
    "        # apply a cut off\n",
    "        Y = np.log(Y[Y > 100])\n",
    "        vv = stats.linregress(np.arange(len(Y)), Y)\n",
    "        X.append((c, np.exp(vv.slope), np.exp(vv.intercept).astype(int) ))\n",
    "    return X"
   ]
  },
  {
   "cell_type": "markdown",
   "metadata": {},
   "source": [
    "## these are the results"
   ]
  },
  {
   "cell_type": "code",
   "execution_count": 240,
   "metadata": {},
   "outputs": [
    {
     "data": {
      "text/html": [
       "<div>\n",
       "<style scoped>\n",
       "    .dataframe tbody tr th:only-of-type {\n",
       "        vertical-align: middle;\n",
       "    }\n",
       "\n",
       "    .dataframe tbody tr th {\n",
       "        vertical-align: top;\n",
       "    }\n",
       "\n",
       "    .dataframe thead th {\n",
       "        text-align: right;\n",
       "    }\n",
       "</style>\n",
       "<table border=\"1\" class=\"dataframe\">\n",
       "  <thead>\n",
       "    <tr style=\"text-align: right;\">\n",
       "      <th></th>\n",
       "      <th>country</th>\n",
       "      <th>deaths</th>\n",
       "      <th>confirmed</th>\n",
       "    </tr>\n",
       "  </thead>\n",
       "  <tbody>\n",
       "    <tr>\n",
       "      <th>0</th>\n",
       "      <td>Belgium</td>\n",
       "      <td>1.221644</td>\n",
       "      <td>1.122172</td>\n",
       "    </tr>\n",
       "    <tr>\n",
       "      <th>1</th>\n",
       "      <td>Brazil</td>\n",
       "      <td>1.222654</td>\n",
       "      <td>1.151530</td>\n",
       "    </tr>\n",
       "    <tr>\n",
       "      <th>2</th>\n",
       "      <td>France</td>\n",
       "      <td>1.180746</td>\n",
       "      <td>1.117239</td>\n",
       "    </tr>\n",
       "    <tr>\n",
       "      <th>3</th>\n",
       "      <td>Germany</td>\n",
       "      <td>1.206081</td>\n",
       "      <td>1.087243</td>\n",
       "    </tr>\n",
       "    <tr>\n",
       "      <th>4</th>\n",
       "      <td>Iran</td>\n",
       "      <td>1.048433</td>\n",
       "      <td>1.073712</td>\n",
       "    </tr>\n",
       "    <tr>\n",
       "      <th>5</th>\n",
       "      <td>Italy</td>\n",
       "      <td>1.070644</td>\n",
       "      <td>1.047880</td>\n",
       "    </tr>\n",
       "    <tr>\n",
       "      <th>6</th>\n",
       "      <td>Netherlands</td>\n",
       "      <td>1.157830</td>\n",
       "      <td>1.090275</td>\n",
       "    </tr>\n",
       "    <tr>\n",
       "      <th>7</th>\n",
       "      <td>Portugal</td>\n",
       "      <td>1.145668</td>\n",
       "      <td>1.126067</td>\n",
       "    </tr>\n",
       "    <tr>\n",
       "      <th>8</th>\n",
       "      <td>Spain</td>\n",
       "      <td>1.117387</td>\n",
       "      <td>1.089844</td>\n",
       "    </tr>\n",
       "    <tr>\n",
       "      <th>9</th>\n",
       "      <td>Sweden</td>\n",
       "      <td>1.207282</td>\n",
       "      <td>1.099039</td>\n",
       "    </tr>\n",
       "    <tr>\n",
       "      <th>10</th>\n",
       "      <td>Switzerland</td>\n",
       "      <td>1.149611</td>\n",
       "      <td>1.061955</td>\n",
       "    </tr>\n",
       "    <tr>\n",
       "      <th>11</th>\n",
       "      <td>Turkey</td>\n",
       "      <td>1.255857</td>\n",
       "      <td>1.216813</td>\n",
       "    </tr>\n",
       "    <tr>\n",
       "      <th>12</th>\n",
       "      <td>United Kingdom</td>\n",
       "      <td>1.247206</td>\n",
       "      <td>1.149785</td>\n",
       "    </tr>\n",
       "    <tr>\n",
       "      <th>13</th>\n",
       "      <td>US</td>\n",
       "      <td>1.240455</td>\n",
       "      <td>1.153689</td>\n",
       "    </tr>\n",
       "  </tbody>\n",
       "</table>\n",
       "</div>"
      ],
      "text/plain": [
       "           country    deaths  confirmed\n",
       "0          Belgium  1.221644   1.122172\n",
       "1           Brazil  1.222654   1.151530\n",
       "2           France  1.180746   1.117239\n",
       "3          Germany  1.206081   1.087243\n",
       "4             Iran  1.048433   1.073712\n",
       "5            Italy  1.070644   1.047880\n",
       "6      Netherlands  1.157830   1.090275\n",
       "7         Portugal  1.145668   1.126067\n",
       "8            Spain  1.117387   1.089844\n",
       "9           Sweden  1.207282   1.099039\n",
       "10     Switzerland  1.149611   1.061955\n",
       "11          Turkey  1.255857   1.216813\n",
       "12  United Kingdom  1.247206   1.149785\n",
       "13              US  1.240455   1.153689"
      ]
     },
     "execution_count": 240,
     "metadata": {},
     "output_type": "execute_result"
    }
   ],
   "source": [
    "ww = 10\n",
    "cc = countries = [x for x in foyers.index if x != 62]\n",
    "\n",
    "X = list(zip(* lin_reg(df,cc,window=ww)))\n",
    "Z = list(zip(* lin_reg(dfc,cc,window=ww)))\n",
    "\n",
    "X[2] = Z[1]\n",
    "X[0] = [dfc.iloc[x][\"Country/Region\"] for x in X[0]]\n",
    "dff = pd.DataFrame({'country' : X[0], 'deaths': X[1], 'confirmed': X[2]})\n",
    "dff"
   ]
  },
  {
   "cell_type": "markdown",
   "metadata": {},
   "source": [
    "# Calculate days till herd immunity achieved\n",
    "\n",
    "- The population is roughly $67 \\times 10^6$.\n",
    "- dfc holds the stats for confirmed cases\n",
    "- dff holds the growth rates\n",
    "\n",
    "So we need to do something like\n",
    "$$\\frac{1}{ \\text{growth rate}} \\times\n",
    "\\log \\left( .6 \\times \\frac{\\text{Population}}{\\text{# infected total}} \n",
    "\\right)\n",
    "$$\n",
    "\n",
    "When I think about it whether it's .6 or .4 makes hardly any difference\n",
    "because we are taking logs and the difference is less than 1/2."
   ]
  },
  {
   "cell_type": "code",
   "execution_count": 241,
   "metadata": {},
   "outputs": [
    {
     "data": {
      "text/plain": [
       "(0.27700685596742697, 89953)"
      ]
     },
     "execution_count": 241,
     "metadata": {},
     "output_type": "execute_result"
    }
   ],
   "source": [
    "np.log( dff.iloc[2,2])   + np.log( dff.iloc[2,1]) ,  dfc.iloc[116, -1]"
   ]
  },
  {
   "cell_type": "code",
   "execution_count": 147,
   "metadata": {},
   "outputs": [],
   "source": [
    "#(np.log(.6)- np.log(.4)) /np.log( dff.iloc[2,2]) "
   ]
  },
  {
   "cell_type": "code",
   "execution_count": 243,
   "metadata": {},
   "outputs": [
    {
     "data": {
      "text/plain": [
       "(43.58810687788989, 89953)"
      ]
     },
     "execution_count": 243,
     "metadata": {},
     "output_type": "execute_result"
    }
   ],
   "source": [
    "np.log(.6*67*10**6/ dfc.iloc[116, -1]) /.14,  dfc.iloc[116, -1]"
   ]
  },
  {
   "cell_type": "code",
   "execution_count": null,
   "metadata": {},
   "outputs": [],
   "source": []
  },
  {
   "cell_type": "code",
   "execution_count": 250,
   "metadata": {},
   "outputs": [
    {
     "data": {
      "text/plain": [
       "Text(0,0.5,'confirmed cases growth rate')"
      ]
     },
     "execution_count": 250,
     "metadata": {},
     "output_type": "execute_result"
    },
    {
     "data": {
      "image/png": "[encoded data removed]",
      "text/plain": [
       "<Figure size 720x720 with 1 Axes>"
      ]
     },
     "metadata": {
      "needs_background": "light"
     },
     "output_type": "display_data"
    }
   ],
   "source": [
    "labels = dfc.iloc[cc][\"Country/Region\"]\n",
    "\n",
    "fig, ax = plt.subplots()\n",
    "fig.set_size_inches(10,10)\n",
    "for label, x, y in zip(dff['country'], dff['deaths'],dff['confirmed']):\n",
    "    ax.annotate(\n",
    "        label,\n",
    "        xy=(x, y), xytext=(-10, 10),\n",
    "        textcoords='offset points', ha='right', va='bottom',\n",
    "        bbox=dict(boxstyle='round,pad=0.5', fc='yellow', alpha=0.5),\n",
    "        arrowprops=dict(arrowstyle = '->', connectionstyle='arc3,rad=0'))\n",
    "\n",
    "ax.plot(dff['deaths'],dff['confirmed'],'rx')\n",
    "ax.set_aspect('equal')\n",
    "bx = [1.05,1.28]\n",
    "plt.plot(bx,bx,'b')\n",
    "plt.xlabel('mortality growth rate')\n",
    "plt.ylabel('confirmed cases growth rate')"
   ]
  },
  {
   "cell_type": "markdown",
   "metadata": {},
   "source": [
    "## Calculate rolling averages for some countries for the last 36 days\n",
    "\n",
    "\n",
    "this was something somebody asked me to do for another problem\n",
    "but it's a standard way of smoothing data."
   ]
  },
  {
   "cell_type": "code",
   "execution_count": 71,
   "metadata": {},
   "outputs": [
    {
     "data": {
      "text/plain": [
       "23       513\n",
       "116     3024\n",
       "120      645\n",
       "133     2757\n",
       "137    11591\n",
       "169      864\n",
       "201     7716\n",
       "206      359\n",
       "223     1408\n",
       "225     2978\n",
       "Name: 3/30/20, dtype: int64"
      ]
     },
     "execution_count": 71,
     "metadata": {},
     "output_type": "execute_result"
    }
   ],
   "source": [
    "df.iloc[cc,-1]"
   ]
  },
  {
   "cell_type": "code",
   "execution_count": 85,
   "metadata": {},
   "outputs": [],
   "source": [
    "start = -30\n",
    "data = [df.iloc[nn , start:].rolling(4).sum() for nn in cc ]\n",
    "filtered_data = [ x[x>100].values for x in data]"
   ]
  },
  {
   "cell_type": "markdown",
   "metadata": {},
   "source": [
    "## should really pad the filtered_data so that it's for the same period"
   ]
  },
  {
   "cell_type": "code",
   "execution_count": 86,
   "metadata": {},
   "outputs": [
    {
     "data": {
      "image/png": "[encoded data removed]",
      "text/plain": [
       "<Figure size 432x288 with 1 Axes>"
      ]
     },
     "metadata": {
      "needs_background": "light"
     },
     "output_type": "display_data"
    }
   ],
   "source": [
    "fig, ax = plt.subplots()\n",
    "for x,label in zip(filtered_data, df.iloc[cc][\"Country/Region\"]):\n",
    "    ax.plot( np.arange(len(x)-1), x[1:]/x[:-1], label=label)\n",
    "\n",
    "leg = ax.legend();"
   ]
  },
  {
   "cell_type": "markdown",
   "metadata": {},
   "source": [
    "# rolling sums for math"
   ]
  },
  {
   "cell_type": "code",
   "execution_count": 87,
   "metadata": {},
   "outputs": [
    {
     "data": {
      "text/plain": [
       "array([  119.,   148.,   208.,   266.,   309.,   409.,   478.,   535.,\n",
       "         687.,   989.,  1403.,  1929.,  2546.,  3196.,  3965.,  4987.,\n",
       "        6122.,  7336.,  8611.,  9939., 11467.])"
      ]
     },
     "execution_count": 87,
     "metadata": {},
     "output_type": "execute_result"
    }
   ],
   "source": [
    "filtered_data[1]"
   ]
  },
  {
   "cell_type": "code",
   "execution_count": 103,
   "metadata": {},
   "outputs": [
    {
     "data": {
      "text/plain": [
       "63.701792506762544"
      ]
     },
     "execution_count": 103,
     "metadata": {},
     "output_type": "execute_result"
    }
   ],
   "source": [
    "np.log(.6*67*10**6/52128)/np.log(1.11)"
   ]
  },
  {
   "cell_type": "code",
   "execution_count": 96,
   "metadata": {},
   "outputs": [
    {
     "data": {
      "text/plain": [
       "52128"
      ]
     },
     "execution_count": 96,
     "metadata": {},
     "output_type": "execute_result"
    }
   ],
   "source": [
    "dfc.iloc[116,-1]"
   ]
  },
  {
   "cell_type": "code",
   "execution_count": 152,
   "metadata": {},
   "outputs": [
    {
     "data": {
      "text/plain": [
       "1.3634783972515458"
      ]
     },
     "execution_count": 152,
     "metadata": {},
     "output_type": "execute_result"
    }
   ],
   "source": [
    "np.exp(np.log(1250)/23)"
   ]
  },
  {
   "cell_type": "code",
   "execution_count": 183,
   "metadata": {},
   "outputs": [
    {
     "data": {
      "text/plain": [
       "'reidemeist'"
      ]
     },
     "execution_count": 183,
     "metadata": {},
     "output_type": "execute_result"
    }
   ],
   "source": [
    "'Reidemeister'.lower()[:10]"
   ]
  },
  {
   "cell_type": "code",
   "execution_count": null,
   "metadata": {},
   "outputs": [],
   "source": []
  }
 ],
 "metadata": {
  "kernelspec": {
   "display_name": "Python 3",
   "language": "python",
   "name": "python3"
  },
  "language_info": {
   "codemirror_mode": {
    "name": "ipython",
    "version": 3
   },
   "file_extension": ".py",
   "mimetype": "text/x-python",
   "name": "python",
   "nbconvert_exporter": "python",
   "pygments_lexer": "ipython3",
   "version": "3.6.5"
  }
 },
 "nbformat": 4,
 "nbformat_minor": 2
}
