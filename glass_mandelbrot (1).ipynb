{
 "cells": [
  {
   "cell_type": "markdown",
   "metadata": {},
   "source": [
    "# Mandelbrot's poisoned chalice\n",
    "\n",
    "This is a shameless ripoff of an idea of Gabriel and Bernat\n",
    "who used [chimera](https://www.cgl.ucsf.edu/chimera/)\n",
    "to get an STL file from a multi image TIFF by stacking layers of voxels.\n",
    "Below we build a TIFF for importing in Chimera.\n",
    "\n",
    "\n",
    "Each level set is a Julia set with the corresponding $c$\n",
    "in $f_c(z) = z^2 + c$ either:\n",
    "\n",
    "- on a semicircle of radius  $\\frac14$ centered at $0$\n",
    "- on a segment between $-\\frac14$ and $0$\n",
    "\n",
    "\n",
    "Theoretically we can use Chimera directly from a notebook\n",
    "with [this package](https://pypi.org/project/pychimera/0.1.11/)\n",
    "but it only works with python 2.7 and I'm tired of building environments.\n"
   ]
  },
  {
   "cell_type": "markdown",
   "metadata": {},
   "source": [
    "![chalice](./chalice.png)\n",
    "\n",
    "if the image doesn't load [click here](https://github.com/macbuse/just-math/blob/master/chalice.png)\n",
    "\n",
    "![chalice](./chalice2.jpg)"
   ]
  },
  {
   "cell_type": "code",
   "execution_count": 46,
   "metadata": {},
   "outputs": [],
   "source": [
    "import matplotlib.pyplot as plt\n",
    "import numpy as np \n",
    "import imageio \n",
    "\n",
    "# I might run this in notebook and not lab so\n",
    "%matplotlib inline\n",
    "# skimage is sensitive about letting u import so....\n",
    "from skimage.transform import resize, rotate\n",
    "\n",
    "def mk_gif(frames, fn='weather.gif', duration=.3):\n",
    "    with imageio.get_writer(fn, mode='I',duration=duration) as writer:\n",
    "        for frame in frames:\n",
    "            if frame is None: continue\n",
    "            writer.append_data(frame)"
   ]
  },
  {
   "cell_type": "markdown",
   "metadata": {},
   "source": [
    "# Building the profile and a path in the Mandelbrot set"
   ]
  },
  {
   "cell_type": "code",
   "execution_count": 44,
   "metadata": {},
   "outputs": [
    {
     "data": {
      "text/plain": [
       "[<matplotlib.lines.Line2D at 0x7e7cb9c373c8>]"
      ]
     },
     "execution_count": 44,
     "metadata": {},
     "output_type": "execute_result"
    },
    {
     "data": {
      "image/png": "[encoded data removed]",
      "text/plain": [
       "<Figure size 864x864 with 1 Axes>"
      ]
     },
     "metadata": {
      "needs_background": "light"
     },
     "output_type": "display_data"
    }
   ],
   "source": [
    "#globals but hey this isn't production code\n",
    "\n",
    "equator = .5\n",
    "bottom = -.9\n",
    "base = 3*bottom\n",
    "ff = .5\n",
    "\n",
    "def gg(x):\n",
    "    #need this for quadratic interpolation\n",
    "    x_min = .75\n",
    "    return (x - ((1 - x_min)*bottom + x_min *base))/(bottom - base)\n",
    "\n",
    "\n",
    "def xm2(t):\n",
    "    if t < base:\n",
    "        return .25\n",
    "\n",
    "    if  t < equator : \n",
    "        tt = np.pi*(t - base)/(equator-base)*1J\n",
    "        return .25*np.exp(tt)\n",
    "    \n",
    "    tt = (t - equator)/.5\n",
    "    return -.25*(1 - tt) \n",
    "\n",
    "def profile(t):\n",
    "    if t < base :\n",
    "        tt = (t - T[0])/(base-T[0])\n",
    "        return .3*(1-tt) + tt*profile(B)\n",
    "    if  t <= bottom :\n",
    "        tt = (gg(t)/gg(bottom))**2\n",
    "        return tt*ff*np.sqrt(1 - bottom**2)  + .1*(1-tt)\n",
    "    \n",
    "    if  t < equator : return ff*np.sqrt(1 - t**2)\n",
    "    return ff*np.sqrt(1 - equator**2) + (equator - t)*equator/(np.sqrt(1 - equator**2))/3\n",
    "\n",
    "fig = plt.figure(figsize=(12,12))\n",
    "ax = fig.add_subplot(111)\n",
    "ax.set_aspect(2) \n",
    "#ax.axis('off')\n",
    "   \n",
    "\n",
    "T = np.linspace(base - .1 ,1, 180)\n",
    "RR = [ profile(t) for t in T ]\n",
    "\n",
    "ax.plot(T,[ profile(t) for t in T])"
   ]
  },
  {
   "cell_type": "markdown",
   "metadata": {},
   "source": [
    "# Code I had lying around \n",
    "\n",
    "this does the Mandelbrot set but you can get Julia sets by  a couple of small mods"
   ]
  },
  {
   "cell_type": "code",
   "execution_count": 3,
   "metadata": {},
   "outputs": [
    {
     "data": {
      "text/plain": [
       "<matplotlib.image.AxesImage at 0x7e7cbb26f5f8>"
      ]
     },
     "execution_count": 3,
     "metadata": {},
     "output_type": "execute_result"
    },
    {
     "data": {
      "image/png": "[encoded data removed]",
      "text/plain": [
       "<Figure size 432x288 with 1 Axes>"
      ]
     },
     "metadata": {
      "needs_background": "light"
     },
     "output_type": "display_data"
    }
   ],
   "source": [
    "npts = 512\n",
    "max_iter = 20\n",
    "\n",
    "X = np.linspace(-2, 1, 2*npts)\n",
    "Y = np.linspace(-1, 1, npts)\n",
    "\n",
    "#broadcast the xs to a square array\n",
    "C = X[:, None] + 1J*Y\n",
    "#initial value is always zero\n",
    "Z = np.zeros_like(C)\n",
    "\n",
    "exit_times = max_iter * np.ones(C.shape, np.int8)\n",
    "mask = exit_times > 0\n",
    "\n",
    "for k in range(max_iter):\n",
    "    Z[mask] = Z[mask] * Z[mask] + C[mask]\n",
    "    mask, old_mask = abs(Z) < 2, mask\n",
    "    #use XOR to detect the area which has changed \n",
    "    exit_times[mask ^ old_mask] = k\n",
    "    \n",
    "#r,g,b layers are all the same\n",
    "image = np.stack((exit_times,)*3).T\n",
    "#choose a coloring scheme now\n",
    "image = 1 - image/max_iter\n",
    "\n",
    "plt.imshow(image)\n",
    "    "
   ]
  },
  {
   "cell_type": "markdown",
   "metadata": {},
   "source": [
    "# Modded code\n",
    "\n",
    "we need it as a function to run on the path in the Mandelbrot set"
   ]
  },
  {
   "cell_type": "code",
   "execution_count": 5,
   "metadata": {},
   "outputs": [],
   "source": [
    "def julia(C,\n",
    "    npts = 512,\n",
    "    max_iter = 20):\n",
    "\n",
    "    X = np.linspace(-2, 2, npts)\n",
    "    Y = np.linspace(-2, 2, npts)\n",
    "    #broadcast the xs to a square array\n",
    "    Z = X[:, None] + 1J*Y\n",
    "\n",
    "    exit_times =  np.ones(Z.shape, np.uint8)\n",
    "    mask = exit_times > 0\n",
    "\n",
    "    for k in range(max_iter):\n",
    "        Z[mask] = Z[mask] * Z[mask] + C\n",
    "        mask = abs(Z) < 2\n",
    "        exit_times[ np.logical_not(mask) ] = 0\n",
    "    \n",
    "    return exit_times\n",
    "    \n",
    "\n",
    "frames = [julia(xm2(t)) for t in T]"
   ]
  },
  {
   "cell_type": "code",
   "execution_count": 20,
   "metadata": {},
   "outputs": [
    {
     "data": {
      "text/plain": [
       "<matplotlib.image.AxesImage at 0x1212325d0>"
      ]
     },
     "execution_count": 20,
     "metadata": {},
     "output_type": "execute_result"
    },
    {
     "data": {
      "image/png": "[encoded data removed]",
      "text/plain": [
       "<matplotlib.figure.Figure at 0x11ecef810>"
      ]
     },
     "metadata": {},
     "output_type": "display_data"
    }
   ],
   "source": [
    "plt.imshow(julia(-.25))"
   ]
  },
  {
   "cell_type": "markdown",
   "metadata": {},
   "source": [
    "# Now we need to do some post processing\n",
    "\n",
    "resizing and a little rotation to get texture"
   ]
  },
  {
   "cell_type": "code",
   "execution_count": 7,
   "metadata": {},
   "outputs": [],
   "source": [
    "def rebox(im,\n",
    "          ss=.5,\n",
    "          rr=10):\n",
    "    \n",
    "resizing and a little rotation to get texture\n",
    "    '''change size and rotate a square image\n",
    "    insert in the middle of a black image \n",
    "    of the same size as original'''\n",
    "    \n",
    "    sx, sy = im.shape\n",
    "    \n",
    "    #so I want to stay in uint8 so I preserve range\n",
    "    layer = resize(im, (2*int(sx*ss), 2*int(sy*ss)),  preserve_range=True)\n",
    "    \n",
    "    layer = rotate(layer, rr)\n",
    "    \n",
    "    dx, dy = layer.shape\n",
    "    cx = sx//2 -  dx//2\n",
    "    \n",
    "    blk = np.zeros((sx,sx), dtype=np.uint8)\n",
    "    #glue it in there baby\n",
    "    blk[cx:cx + dx, cx:cx + dx] = layer[:]  \n",
    "    return blk\n"
   ]
  },
  {
   "cell_type": "markdown",
   "metadata": {},
   "source": [
    "## Output\n",
    "\n",
    "we need to pad out the base so that it is solid\n",
    "and save to a multi image TIFF"
   ]
  },
  {
   "cell_type": "code",
   "execution_count": 41,
   "metadata": {},
   "outputs": [],
   "source": [
    "movie = [frames[0]]*6\n",
    "movie.extend(frames)\n",
    "\n",
    "R = [RR[0]]*6\n",
    "R.extend(RR)"
   ]
  },
  {
   "cell_type": "code",
   "execution_count": 42,
   "metadata": {},
   "outputs": [
    {
     "name": "stderr",
     "output_type": "stream",
     "text": [
      "/home/gregmcshane/anaconda3/lib/python3.6/site-packages/skimage/transform/_warps.py:84: UserWarning: The default mode, 'constant', will be changed to 'reflect' in skimage 0.15.\n",
      "  warn(\"The default mode, 'constant', will be changed to 'reflect' in \"\n"
     ]
    }
   ],
   "source": [
    "ims = [ 255*rebox(layer, r, 0) for layer,r,k in zip(movie, R, range(1000)) ]\n",
    "imageio.mimsave('glass.tiff', ims)"
   ]
  },
  {
   "cell_type": "code",
   "execution_count": 43,
   "metadata": {},
   "outputs": [],
   "source": [
    "mk_gif(movie, fn='pp.gif')"
   ]
  },
  {
   "cell_type": "code",
   "execution_count": null,
   "metadata": {},
   "outputs": [],
   "source": []
  },
  {
   "cell_type": "code",
   "execution_count": null,
   "metadata": {},
   "outputs": [],
   "source": []
  }
 ],
 "metadata": {
  "kernelspec": {
   "display_name": "Python 3",
   "language": "python",
   "name": "python3"
  },
  "language_info": {
   "codemirror_mode": {
    "name": "ipython",
    "version": 3
   },
   "file_extension": ".py",
   "mimetype": "text/x-python",
   "name": "python",
   "nbconvert_exporter": "python",
   "pygments_lexer": "ipython3",
   "version": "3.6.5"
  }
 },
 "nbformat": 4,
 "nbformat_minor": 2
}
