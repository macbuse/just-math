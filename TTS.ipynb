{
 "cells": [
  {
   "cell_type": "code",
   "execution_count": 85,
   "metadata": {},
   "outputs": [],
   "source": [
    "from gtts import gTTS\n",
    "import time \n",
    "\n",
    "tts = gTTS('''aujourd'hui je suis trop fatigué pour travailler. \n",
    "je vais rester chez-moi regarder des séries sur Netflix.''', lang='fr')\n",
    "tts.save('file.mp3')\n"
   ]
  },
  {
   "cell_type": "code",
   "execution_count": 33,
   "metadata": {},
   "outputs": [],
   "source": [
    "tts = gTTS(text='我很聪明', lang='zh-cn')\n",
    "\n",
    "tts.save('file.mp3')"
   ]
  },
  {
   "cell_type": "code",
   "execution_count": 7,
   "metadata": {},
   "outputs": [],
   "source": [
    "ss = '''How do I know it is so?\n",
    "As for the world,\n",
    "The more restrictions and prohibitions there are,\n",
    "The poorer the people will be.\n",
    "The more sharp weapons people have in a country,\n",
    "The bigger the disorder will be.\n",
    "The more clever and cunning people are,\n",
    "The stranger the events will be.\n",
    "The more laws and commands there are,\n",
    "The more thieves and robbers there will be.'''"
   ]
  },
  {
   "cell_type": "code",
   "execution_count": 21,
   "metadata": {},
   "outputs": [
    {
     "name": "stdout",
     "output_type": "stream",
     "text": [
      "How do I know it is so?\n",
      "As for the world,\n",
      "The more restrictions and prohibitions there are,\n",
      "The poorer the people will be.\n",
      "The more sharp weapons people have in a country,\n",
      "The bigger the disorder will be.\n",
      "The more clever and cunning people are,\n",
      "The stranger the events will be.\n",
      "The more laws and commands there are,\n",
      "The more thieves and robbers there will be.\n"
     ]
    }
   ],
   "source": [
    "lines = ss.split('\\n')\n",
    "for k, x in enumerate(lines):\n",
    "    print(x)\n",
    "    tts = gTTS(text=x, lang='en')\n",
    "    time.sleep(10)\n",
    "    tts.save('file%s.mp3'%(str(k).zfill(2)))"
   ]
  },
  {
   "cell_type": "code",
   "execution_count": 31,
   "metadata": {},
   "outputs": [
    {
     "name": "stdout",
     "output_type": "stream",
     "text": [
      "\n",
      "\n",
      " # \n",
      "\n",
      "How do I know it is so?\n",
      "<audio  data-autoplay >\n",
      "<source src=\"file00.mp3\" >\n",
      "</audio>\n",
      "\n",
      "\n",
      " # \n",
      "\n",
      "As for the world,\n",
      "<audio  data-autoplay >\n",
      "<source src=\"file01.mp3\" >\n",
      "</audio>\n",
      "\n",
      "\n",
      " # \n",
      "\n",
      "The more restrictions and prohibitions there are,\n",
      "<audio  data-autoplay >\n",
      "<source src=\"file02.mp3\" >\n",
      "</audio>\n",
      "\n",
      "\n",
      " # \n",
      "\n",
      "The poorer the people will be.\n",
      "<audio  data-autoplay >\n",
      "<source src=\"file03.mp3\" >\n",
      "</audio>\n",
      "\n",
      "\n",
      " # \n",
      "\n",
      "The more sharp weapons people have in a country,\n",
      "<audio  data-autoplay >\n",
      "<source src=\"file04.mp3\" >\n",
      "</audio>\n",
      "\n",
      "\n",
      " # \n",
      "\n",
      "The bigger the disorder will be.\n",
      "<audio  data-autoplay >\n",
      "<source src=\"file05.mp3\" >\n",
      "</audio>\n",
      "\n",
      "\n",
      " # \n",
      "\n",
      "The more clever and cunning people are,\n",
      "<audio  data-autoplay >\n",
      "<source src=\"file06.mp3\" >\n",
      "</audio>\n",
      "\n",
      "\n",
      " # \n",
      "\n",
      "The stranger the events will be.\n",
      "<audio  data-autoplay >\n",
      "<source src=\"file07.mp3\" >\n",
      "</audio>\n",
      "\n",
      "\n",
      " # \n",
      "\n",
      "The more laws and commands there are,\n",
      "<audio  data-autoplay >\n",
      "<source src=\"file08.mp3\" >\n",
      "</audio>\n",
      "\n",
      "\n",
      " # \n",
      "\n",
      "The more thieves and robbers there will be.\n",
      "<audio  data-autoplay >\n",
      "<source src=\"file09.mp3\" >\n",
      "</audio>\n"
     ]
    }
   ],
   "source": [
    "wrapper = '''<audio  data-autoplay >\n",
    "<source src=\"file%s.mp3\" >\n",
    "</audio>'''\n",
    "\n",
    "for k, x in enumerate(lines):\n",
    "   x \n",
    "   print('\\n\\n # \\n\\n' + x + '\\n' + wrapper%(str(k).zfill(2)))\n"
   ]
  },
  {
   "cell_type": "code",
   "execution_count": 2,
   "metadata": {},
   "outputs": [
    {
     "name": "stdout",
     "output_type": "stream",
     "text": [
      "Collecting gtts\n",
      "  Downloading https://files.pythonhosted.org/packages/a1/0c/4ca77eca3b739a4a08360930643f58d714e302fee0d2f8c654e67d9af8e7/gTTS-2.1.1-py3-none-any.whl\n",
      "Requirement already satisfied: six in /home/gregmcshane/anaconda3/lib/python3.6/site-packages (from gtts) (1.13.0)\n",
      "Requirement already satisfied: beautifulsoup4 in /home/gregmcshane/anaconda3/lib/python3.6/site-packages (from gtts) (4.6.0)\n",
      "Requirement already satisfied: click in /home/gregmcshane/anaconda3/lib/python3.6/site-packages (from gtts) (6.7)\n",
      "Collecting gtts-token>=1.1.3\n",
      "  Downloading https://files.pythonhosted.org/packages/e7/25/ca6e9cd3275bfc3097fe6b06cc31db6d3dfaf32e032e0f73fead9c9a03ce/gTTS-token-1.1.3.tar.gz\n",
      "Requirement already satisfied: requests in /home/gregmcshane/anaconda3/lib/python3.6/site-packages (from gtts) (2.18.4)\n",
      "Requirement already satisfied: chardet<3.1.0,>=3.0.2 in /home/gregmcshane/anaconda3/lib/python3.6/site-packages (from requests->gtts) (3.0.4)\n",
      "Requirement already satisfied: idna<2.7,>=2.5 in /home/gregmcshane/anaconda3/lib/python3.6/site-packages (from requests->gtts) (2.6)\n",
      "Requirement already satisfied: urllib3<1.23,>=1.21.1 in /home/gregmcshane/anaconda3/lib/python3.6/site-packages (from requests->gtts) (1.22)\n",
      "Requirement already satisfied: certifi>=2017.4.17 in /home/gregmcshane/anaconda3/lib/python3.6/site-packages (from requests->gtts) (2018.4.16)\n",
      "Building wheels for collected packages: gtts-token\n",
      "  Building wheel for gtts-token (setup.py) ... \u001b[?25ldone\n",
      "\u001b[?25h  Created wheel for gtts-token: filename=gTTS_token-1.1.3-cp36-none-any.whl size=3273 sha256=a999ff408f1517b9eaf4fa0f9b4c48f1fda2f49a27ef9580119ed14b3c7fd62a\n",
      "  Stored in directory: /home/gregmcshane/.cache/pip/wheels/dd/11/61/33f7e51bf545e910552b2255eead2a7cd8ef54064b46dceb34\n",
      "Successfully built gtts-token\n",
      "Installing collected packages: gtts-token, gtts\n",
      "Successfully installed gtts-2.1.1 gtts-token-1.1.3\n",
      "\u001b[33mWARNING: You are using pip version 19.3.1; however, version 20.1.1 is available.\n",
      "You should consider upgrading via the 'pip install --upgrade pip' command.\u001b[0m\n"
     ]
    }
   ],
   "source": [
    "!pip install gtts"
   ]
  },
  {
   "cell_type": "code",
   "execution_count": 1,
   "metadata": {},
   "outputs": [],
   "source": [
    "import requests"
   ]
  },
  {
   "cell_type": "code",
   "execution_count": null,
   "metadata": {},
   "outputs": [],
   "source": []
  },
  {
   "cell_type": "code",
   "execution_count": null,
   "metadata": {},
   "outputs": [],
   "source": [
    "text=\"こんにちは\"\n",
    "urltext=`text2url ${text}`\n",
    "speed=0\n",
    "voice=2\n",
    "url=\"http://cache-a.oddcast.com/c_fs/178c011207ec941eee168a5bd0c73625.mp3?engine=3&language=12&voice=${voice}&text=${urltext}&useUTF8=1${effect}\"\n",
    "curl \"${url}\" -H 'Cookie: affData=a%3A1%3A%7Bs%3A5%3A%22affId%22%3Bi%3A1070854%3B%7D' -H 'DNT: 1' -H 'Accept-Encoding: gzip, deflate, sdch' -H 'Accept-Language: en-US,en;q=0.8' -H 'User-Agent: Mozilla/5.0 (Windows NT 10.0; WOW64) AppleWebKit/537.36 (KHTML, like Gecko) Chrome/56.0.2924.87 Safari/537.36' -H 'Accept: */*' -H 'Referer: http://www.oddcast.com/demos/tts/tts_example.php?clients' -H 'X-Requested-With: ShockwaveFlash/24.0.0.221' -H 'Connection: keep-alive' --compressed -o \"audio/${file}.mp3\"\n",
    "And the C program, text2url, is:"
   ]
  },
  {
   "cell_type": "code",
   "execution_count": 3,
   "metadata": {},
   "outputs": [
    {
     "name": "stdout",
     "output_type": "stream",
     "text": [
      "Collecting talkey\n",
      "  Downloading https://files.pythonhosted.org/packages/58/6a/bd20b7f210d70bd6cf3dd78d34f90fa12c7d6afcf443313cf36991e02135/talkey-0.1.1.tar.gz\n",
      "Collecting langid\n",
      "\u001b[?25l  Downloading https://files.pythonhosted.org/packages/ea/4c/0fb7d900d3b0b9c8703be316fbddffecdab23c64e1b46c7a83561d78bd43/langid-1.1.6.tar.gz (1.9MB)\n",
      "\u001b[K     |████████████████████████████████| 1.9MB 580kB/s \n",
      "\u001b[?25hRequirement already satisfied: requests in /home/gregmcshane/anaconda3/lib/python3.6/site-packages (from talkey) (2.18.4)\n",
      "Collecting audioread\n",
      "  Downloading https://files.pythonhosted.org/packages/2e/0b/940ea7861e0e9049f09dcfd72a90c9ae55f697c17c299a323f0148f913d2/audioread-2.1.8.tar.gz\n",
      "Requirement already satisfied: numpy in /home/gregmcshane/anaconda3/lib/python3.6/site-packages (from langid->talkey) (1.17.4)\n",
      "Requirement already satisfied: chardet<3.1.0,>=3.0.2 in /home/gregmcshane/anaconda3/lib/python3.6/site-packages (from requests->talkey) (3.0.4)\n",
      "Requirement already satisfied: idna<2.7,>=2.5 in /home/gregmcshane/anaconda3/lib/python3.6/site-packages (from requests->talkey) (2.6)\n",
      "Requirement already satisfied: urllib3<1.23,>=1.21.1 in /home/gregmcshane/anaconda3/lib/python3.6/site-packages (from requests->talkey) (1.22)\n",
      "Requirement already satisfied: certifi>=2017.4.17 in /home/gregmcshane/anaconda3/lib/python3.6/site-packages (from requests->talkey) (2018.4.16)\n",
      "Building wheels for collected packages: talkey, langid, audioread\n",
      "  Building wheel for talkey (setup.py) ... \u001b[?25ldone\n",
      "\u001b[?25h  Created wheel for talkey: filename=talkey-0.1.1-cp36-none-any.whl size=19198 sha256=6a4ff0e055135b7a2cc38d26012a80f1d689244d547a19e2e5dd1a24d74b9ecb\n",
      "  Stored in directory: /home/gregmcshane/.cache/pip/wheels/b3/80/d8/7b3c0e3b45983c2765405b7b68035b2838d86ebd3de2a70e11\n",
      "  Building wheel for langid (setup.py) ... \u001b[?25ldone\n",
      "\u001b[?25h  Created wheel for langid: filename=langid-1.1.6-cp36-none-any.whl size=1941194 sha256=01fcf1cdfbe72d29bbf4a4939a03e38d3494df1ac6638fd0b900cf053156c1ef\n",
      "  Stored in directory: /home/gregmcshane/.cache/pip/wheels/29/bc/61/50a93be85d1afe9436c3dc61f38da8ad7b637a38af4824e86e\n",
      "  Building wheel for audioread (setup.py) ... \u001b[?25ldone\n",
      "\u001b[?25h  Created wheel for audioread: filename=audioread-2.1.8-cp36-none-any.whl size=22285 sha256=e2f40cc58c6f10408543e00fba38038ea38e0ba74848324994ac99c36bf766cf\n",
      "  Stored in directory: /home/gregmcshane/.cache/pip/wheels/b9/64/09/0b6417df9d8ba8bc61a7d2553c5cebd714ec169644c88fc012\n",
      "Successfully built talkey langid audioread\n",
      "Installing collected packages: langid, audioread, talkey\n",
      "Successfully installed audioread-2.1.8 langid-1.1.6 talkey-0.1.1\n",
      "\u001b[33mWARNING: You are using pip version 19.3.1; however, version 20.1.1 is available.\n",
      "You should consider upgrading via the 'pip install --upgrade pip' command.\u001b[0m\n"
     ]
    }
   ],
   "source": [
    "!pip install talkey"
   ]
  },
  {
   "cell_type": "code",
   "execution_count": 7,
   "metadata": {},
   "outputs": [
    {
     "ename": "TTSError",
     "evalue": "No supported languages",
     "output_type": "error",
     "traceback": [
      "\u001b[0;31m---------------------------------------------------------------------------\u001b[0m",
      "\u001b[0;31mTTSError\u001b[0m                                  Traceback (most recent call last)",
      "\u001b[0;32m<ipython-input-7-230e7d52971a>\u001b[0m in \u001b[0;36m<module>\u001b[0;34m()\u001b[0m\n\u001b[1;32m      1\u001b[0m \u001b[0;32mimport\u001b[0m \u001b[0mtalkey\u001b[0m\u001b[0;34m\u001b[0m\u001b[0m\n\u001b[0;32m----> 2\u001b[0;31m \u001b[0mtts\u001b[0m \u001b[0;34m=\u001b[0m \u001b[0mtalkey\u001b[0m\u001b[0;34m.\u001b[0m\u001b[0mTalkey\u001b[0m\u001b[0;34m(\u001b[0m\u001b[0mengine_preference\u001b[0m\u001b[0;34m=\u001b[0m\u001b[0;34m[\u001b[0m\u001b[0;34m'flite'\u001b[0m\u001b[0;34m]\u001b[0m\u001b[0;34m)\u001b[0m\u001b[0;34m\u001b[0m\u001b[0m\n\u001b[0m\u001b[1;32m      3\u001b[0m \u001b[0mtts\u001b[0m\u001b[0;34m.\u001b[0m\u001b[0msay\u001b[0m\u001b[0;34m(\u001b[0m\u001b[0;34m'Old McDonald had a farm'\u001b[0m\u001b[0;34m)\u001b[0m\u001b[0;34m\u001b[0m\u001b[0m\n",
      "\u001b[0;32m~/anaconda3/lib/python3.6/site-packages/talkey/tts.py\u001b[0m in \u001b[0;36m__init__\u001b[0;34m(self, preferred_languages, preferred_factor, engine_preference, **config)\u001b[0m\n\u001b[1;32m    101\u001b[0m \u001b[0;34m\u001b[0m\u001b[0m\n\u001b[1;32m    102\u001b[0m         \u001b[0;32mif\u001b[0m \u001b[0;32mnot\u001b[0m \u001b[0mself\u001b[0m\u001b[0;34m.\u001b[0m\u001b[0mlanguages\u001b[0m\u001b[0;34m:\u001b[0m\u001b[0;34m\u001b[0m\u001b[0m\n\u001b[0;32m--> 103\u001b[0;31m             \u001b[0;32mraise\u001b[0m \u001b[0mTTSError\u001b[0m\u001b[0;34m(\u001b[0m\u001b[0;34m'No supported languages'\u001b[0m\u001b[0;34m)\u001b[0m\u001b[0;34m\u001b[0m\u001b[0m\n\u001b[0m\u001b[1;32m    104\u001b[0m \u001b[0;34m\u001b[0m\u001b[0m\n\u001b[1;32m    105\u001b[0m     \u001b[0;32mdef\u001b[0m \u001b[0mclassify\u001b[0m\u001b[0;34m(\u001b[0m\u001b[0mself\u001b[0m\u001b[0;34m,\u001b[0m \u001b[0mtxt\u001b[0m\u001b[0;34m)\u001b[0m\u001b[0;34m:\u001b[0m\u001b[0;34m\u001b[0m\u001b[0m\n",
      "\u001b[0;31mTTSError\u001b[0m: No supported languages"
     ]
    }
   ],
   "source": [
    "import talkey\n",
    "tts = talkey.Talkey(engine_preference=['flite'])\n",
    "tts.say('Old McDonald had a farm')"
   ]
  },
  {
   "cell_type": "code",
   "execution_count": 53,
   "metadata": {},
   "outputs": [
    {
     "data": {
      "text/plain": [
       "'ffmpeg -i test.wav -acodec libmp3lame out.mp3'"
      ]
     },
     "execution_count": 53,
     "metadata": {},
     "output_type": "execute_result"
    }
   ],
   "source": [
    "import subprocess\n",
    "\n",
    "tt = '''indeed there is no other way to fly\n",
    "and I would dare not if I could.\n",
    "There are others who might but certainly not I'''\n",
    "\n",
    "txt = \"'%s'\"%(tt)\n",
    "subprocess.call([\"flite\", \"-t\",txt, '-o', 'test.wav'])\n",
    "\n",
    "\n",
    "' '.join([\"ffmpeg\", \"-i\",'test.wav', '-acodec', 'libmp3lame','out.mp3'])"
   ]
  },
  {
   "cell_type": "code",
   "execution_count": 55,
   "metadata": {},
   "outputs": [
    {
     "data": {
      "text/plain": [
       "0"
      ]
     },
     "execution_count": 55,
     "metadata": {},
     "output_type": "execute_result"
    }
   ],
   "source": [
    "subprocess.call([\"ffmpeg\", \"-y\", \"-i\",'test.wav', '-acodec', 'libmp3lame','out.mp3'])"
   ]
  },
  {
   "cell_type": "code",
   "execution_count": null,
   "metadata": {},
   "outputs": [],
   "source": [
    "Request URL: https://text-to-speech-demo.ng.bluemix.net\n",
    "        /api/v3/synthesize?text=love+is+a++strange+thing+\n",
    "        &voice=en-US_AllisonV3Voice&download=true&accept=audio%2Fmp3\n"
   ]
  },
  {
   "cell_type": "code",
   "execution_count": 203,
   "metadata": {},
   "outputs": [
    {
     "name": "stdout",
     "output_type": "stream",
     "text": [
      "skipping today_we_are.mp3\n",
      "skipping you_are_right.mp3\n",
      "skipping its_something_that.mp3\n",
      "Doing its_hard_to.mp3\n",
      "DONE\n"
     ]
    }
   ],
   "source": [
    "import requests\n",
    "import re, time\n",
    "\n",
    "wrapper = '''<audio  data-autoplay >\n",
    "<source src=\"%s\" >\n",
    "</audio>'''\n",
    "\n",
    "def string2fn(xx):\n",
    "    '''strip punctuation\n",
    "     return first 3 words with sep=_'''\n",
    "    u = re.sub(r'[^\\w\\s]','',xx)\n",
    "    return '_'.join(u.lower().split()[:3]) + '.mp3'\n",
    "\n",
    "voices ={'K' : 'en-GB_KateV3Voice',\n",
    "         'M' : 'en-US_MichaelV3Voice',\n",
    "         'O' : 'en-US_OliviaV3Voice'     \n",
    "        }\n",
    "\n",
    "def get_audio(to_say):\n",
    "\n",
    "    actor, txt = to_say\n",
    "    fn = string2fn(txt)\n",
    "    \n",
    "    print('Doing', fn)\n",
    "    \n",
    "    url = 'https://text-to-speech-demo.ng.bluemix.net/api/v3/synthesize'\n",
    "    params = {'text' : txt,\n",
    "              'voice' : voices[actor],\n",
    "              'download' : 'true',\n",
    "              'accept' : 'audio/mp3'\n",
    "             }\n",
    "\n",
    "    r = requests.get(url, params=params)\n",
    "\n",
    "    with open('%s'%fn,'wb') as fp:\n",
    "        fp.write(r.content)\n",
    "        \n",
    "import json\n",
    "\n",
    "      \n",
    "for tt in txts:\n",
    "    \n",
    "    actor, txt = tt\n",
    "    fn = string2fn(txt)\n",
    "    if fn in data and data[fn] == txt:\n",
    "        print('skipping', fn)\n",
    "        continue\n",
    "    get_audio(tt)\n",
    "    time.sleep(20)\n",
    "    \n",
    "with open('script.json','w') as fp:\n",
    "    aa, lines = list( zip(* txts))\n",
    "    json.dump( { string2fn(x) : x for x in lines} , fp)\n",
    "    \n",
    "print('DONE')\n"
   ]
  },
  {
   "cell_type": "markdown",
   "metadata": {},
   "source": [
    "<prosody rate=\"-10%\"> Only joking.</prosody> \n",
    "\n",
    "<prosody volume=\"20%\"> Fuck off !  </prosody> \n"
   ]
  },
  {
   "cell_type": "code",
   "execution_count": 201,
   "metadata": {},
   "outputs": [],
   "source": [
    "xx = '''# Teaching Post COVID\n",
    "\n",
    "# Begin\n",
    "\n",
    "$E = mc^2$\n",
    "\n",
    "!![K](Today we are going to discuss the future of teaching.\n",
    "\n",
    "This is an important subject as the epidemic has changed so many things.\n",
    ")\n",
    "\n",
    "# \n",
    "\n",
    "## The voice of reason\n",
    "\n",
    "!![M](You are right Kate! We have to find solutions to the problems of online teaching and quickly.\n",
    ")\n",
    "\n",
    "# Well\n",
    "\n",
    "!![K](It's something that people have been talking about for so long, but we never seem to get started on it.)\n",
    "\n",
    "#\n",
    "\n",
    "## Lazy beggers\n",
    "\n",
    "!![O](It's hard to believe that people have just sat on their hands till now.\n",
    "Governments, university administrators and educationalists have done nothing!)\n",
    "\n",
    "'''"
   ]
  },
  {
   "cell_type": "code",
   "execution_count": 202,
   "metadata": {},
   "outputs": [
    {
     "data": {
      "text/plain": [
       "0"
      ]
     },
     "execution_count": 202,
     "metadata": {},
     "output_type": "execute_result"
    }
   ],
   "source": [
    "import re\n",
    "\n",
    "cc = 'pandoc -t revealjs -s -o myslides.html tmp.md -V revealjs-url=https://unpkg.com/reveal.js@3.9.2/ -i'.split()                 \n",
    "\n",
    "pp_audio = re.compile(r'!!\\[(.*?)\\]\\((.*?)\\)',re.DOTALL)\n",
    "\n",
    "def callback(match):\n",
    "    wrapper = '''<audio  data-autoplay >\n",
    "<source src=\"%s\" >\n",
    "</audio>'''\n",
    "\n",
    "    return wrapper % (string2fn(match.group(2)) )\n",
    "\n",
    "txts = pp_audio.findall(xx)\n",
    "\n",
    "uu = re.sub(pp_audio, callback, xx)\n",
    "\n",
    "with open('tmp.md','w') as fp:\n",
    "    fp.write(uu)\n",
    "    \n",
    "subprocess.call(cc)"
   ]
  },
  {
   "cell_type": "code",
   "execution_count": null,
   "metadata": {},
   "outputs": [],
   "source": [
    "GET /api/v3/synthesize?text=How+are+you+today%3F&voice=en-GB_KateV3Voice&download=true&accept=audio%2Fmp3 HTTP/1.1\n",
    "Host: text-to-speech-demo.ng.bluemix.net\n",
    "Connection: keep-alive\n",
    "DNT: 1\n",
    "Accept-Encoding: identity;q=1, *;q=0\n",
    "User-Agent: Mozilla/5.0 (X11; CrOS x86_64 13020.54.0) AppleWebKit/537.36 (KHTML, like Gecko) Chrome/83.0.4103.77 Safari/537.36\n",
    "Accept: */*\n",
    "Sec-Fetch-Site: same-origin\n",
    "Sec-Fetch-Mode: no-cors\n",
    "Sec-Fetch-Dest: audio\n",
    "Referer: https://text-to-speech-demo.ng.bluemix.net/\n",
    "Accept-Language: en-IE,en;q=0.9,fr-FR;q=0.8,fr;q=0.7,zh-CN;q=0.6,zh;q=0.5,en-US;q=0.4,nl;q=0.3\n",
    "Cookie: com.ibm.bluemix.login.Expiration.yp=1591268760; com.ibm.bluemix.login.StartTime.yp=1591182317; com.ibm.bluemix.login.Identity.yp=\"1JTHacfjWKElieKokYj9QhMMFmohu7q2ID4SZH4xOsya8nchU6nhA/MbQ3YngNSbPG3ciCm8/PvfNtUBxmI3vD7vF1N2zeJeuzAqaDUNZXM7Cfeaz5Cn0o5Iy1+wdL+g2Ax2XjzHKMpjtF32K1NMrF/BfUGwemmOaMkaW+VcUK+eaIEfesUqKH2Fkjc1DHYO9vFa9Zy5H5nGSq3oFcpLsYoCh5pCc2YS1oXLXXSQlZECEu6SP1kwK0mKjWrYG5sVYruCsCev7yqzeWxBHqA1OqGCh8H7ENn+SkMmW8off665glywxqCjBnDw03qfm/d1p2BGfbXhWKT+xWyZczcZUVtPcbAVTutsOvCpqcNSf9tE7O4vDz/SfCV5qUVH6kxeqbHzxFn3WzasE4ppmfhx23hiZvvbmgqZnnc9/ttyCULvOyriTkSO0irfUVrhieftUsie6ROrliM/zmspwPoV1jUeW6sN6C01j9NBNjG///Y=\"\n",
    "Range: bytes=0-\n"
   ]
  },
  {
   "cell_type": "code",
   "execution_count": null,
   "metadata": {},
   "outputs": [],
   "source": [
    "ss = ['''Today in class we are going to study some differenshable functions. \n",
    "\n",
    "Let  f be a function. We say that f is differenshable at some point x if it can be  approximated by an affine function in a neighborhood of x.\n",
    "''',\n",
    "\n",
    "'''Let's draw a picture!''',\n",
    "'''So this is the graph of our function f.''',\n",
    "'''Let's choose a point and draw a line that is tangent to the graph at the point. \n",
    "\n",
    "The line is in fact the graph of an affine function.''']\n",
    "\n",
    "ss = ['''We can make this more formal using a special notation called the little o notation''',\n",
    "     '''The value of the function at t is equal to it's value at x \n",
    "     plus t minus x  times the derivative \n",
    "     plus an error term which we write little o of t minus x. ''',\n",
    "     ]\n",
    "\n",
    "ss = [ '''Little o of t minus x is something that is vanishingly small compared to t minus x.\n",
    "\n",
    "In terms of mathematical analysis, \n",
    "if we make a fraction\n",
    "with little o of t minus x  on top and t minus x on the bottome \n",
    "then when t tends to x the limit is zero.''',\n",
    "     ]\n",
    "\n",
    "ss = [ '''Let's choose a point and draw a line that is tangent to the graph at the point. \n",
    "\n",
    "The line is in fact the graph of this affine function of t.''']\n",
    "\n",
    "ss = ['''Now if we zoom in on the point we see that the graph of f and the affine function\n",
    "get closer and closer.\n",
    "\n",
    "It's hard to tell the difference on a microscopic scale.''',\n",
    "     '''Can you see what I mean?''']\n",
    "\n",
    "ss = [ '''So what kind of quantities are little o of t minus x? \n",
    "\n",
    "Well t minus x squared or t minus x cubed are, for example.''',\n",
    "      \n",
    "      '''But not the absolute value of t minus x, or its square root.'''\n",
    "     ]\n",
    "\n",
    "ss = ['''Olivia will explain what little o means.''', \n",
    "      '''Thank you Olivia, that was great.''']\n"
   ]
  }
 ],
 "metadata": {
  "kernelspec": {
   "display_name": "Python 3",
   "language": "python",
   "name": "python3"
  },
  "language_info": {
   "codemirror_mode": {
    "name": "ipython",
    "version": 3
   },
   "file_extension": ".py",
   "mimetype": "text/x-python",
   "name": "python",
   "nbconvert_exporter": "python",
   "pygments_lexer": "ipython3",
   "version": "3.6.5"
  }
 },
 "nbformat": 4,
 "nbformat_minor": 2
}
