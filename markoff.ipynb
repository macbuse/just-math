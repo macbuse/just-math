{
 "cells": [
  {
   "cell_type": "code",
   "execution_count": null,
   "metadata": {
    "collapsed": true
   },
   "outputs": [],
   "source": [
    "import numpy as np"
   ]
  },
  {
   "cell_type": "code",
   "execution_count": 211,
   "metadata": {},
   "outputs": [
    {
     "data": {
      "text/plain": [
       "(1.5707963267948966j, (0.70710678118654757+0.70710678118654746j))"
      ]
     },
     "execution_count": 211,
     "metadata": {},
     "output_type": "execute_result"
    }
   ],
   "source": [
    "np.log(1J), np.sqrt(1J)"
   ]
  },
  {
   "cell_type": "code",
   "execution_count": 209,
   "metadata": {
    "collapsed": true
   },
   "outputs": [],
   "source": [
    "class Markoff(object):\n",
    "    \n",
    "    def __init__(self, mn = (3,np.array([1,0]))):\n",
    "        self.n, self.v = mn\n",
    "    \n",
    "    #this is cheating as it breaks the symetry \n",
    "    #between + and - \n",
    "    #but the subsequent code looks better\n",
    "    \n",
    "    def __mul__(self, other):\n",
    "        return Mark((self.n*other.n, self.v + other.v))\n",
    "    \n",
    "    def __sub__(self, other):\n",
    "        return Mark((self.n - other.n, self.v))\n",
    "    \n",
    "    def __abs__(self):\n",
    "        return abs(self.n)\n",
    "    \n",
    "    def m2v(self):\n",
    "        #thisis a dumb name for a function\n",
    "        length = acosh(self.n)\n",
    "        #not elegant I want to check if  .real exists\n",
    "        if not isinstance(length, np.float64):\n",
    "            length = abs(length.real)\n",
    "   \n",
    "        return self.v/length\n",
    "        \n",
    "    def __str__(self):\n",
    "        return str(self.n)\n",
    "    \n",
    "    def __repr__(self):\n",
    "        return self.n\n",
    "        "
   ]
  },
  {
   "cell_type": "code",
   "execution_count": 187,
   "metadata": {
    "collapsed": true
   },
   "outputs": [],
   "source": [
    "def acosh(u):\n",
    "    #this will take complex numbers\n",
    "    return np.log( .5*(u + np.sqrt(u**2 - 4)))\n",
    "    "
   ]
  },
  {
   "cell_type": "code",
   "execution_count": 185,
   "metadata": {},
   "outputs": [
    {
     "data": {
      "text/plain": [
       "(0.96242365011920694, 0.48121182505960347)"
      ]
     },
     "execution_count": 185,
     "metadata": {},
     "output_type": "execute_result"
    }
   ],
   "source": [
    "acosh(3*3 - 2)/2, acosh(1J)"
   ]
  },
  {
   "cell_type": "code",
   "execution_count": 317,
   "metadata": {},
   "outputs": [
    {
     "name": "stdout",
     "output_type": "stream",
     "text": [
      "(0.361190523447-0.0283590992241j) (3-6.59194920871e-16j)\n",
      "0.0144160446663 0.962423650119\n"
     ]
    },
    {
     "data": {
      "text/plain": [
       "[<matplotlib.lines.Line2D at 0x120583410>]"
      ]
     },
     "execution_count": 317,
     "metadata": {},
     "output_type": "execute_result"
    },
    {
     "data": {
      "image/png": "[encoded data removed]",
      "text/plain": [
       "<matplotlib.figure.Figure at 0x1205ddb10>"
      ]
     },
     "metadata": {},
     "output_type": "display_data"
    }
   ],
   "source": [
    "# these two are global to tree()\n",
    "max_depth = 1000\n",
    "nums = []\n",
    "# but who cares?\n",
    "\n",
    "def tree(mt, dd):\n",
    "    dd +=1\n",
    "    x,y,z = mt\n",
    "    nums.append(z)\n",
    "    if abs(z) > max_depth or dd > 5:\n",
    "        return\n",
    "    tree((z,y,y*z - x), dd)\n",
    "    tree((x,z,x*z - y), dd)\n",
    "\n",
    "\n",
    "z1, z2 = calc_z(a,b) \n",
    "print z1,z2\n",
    "print acosh(z1).real,acosh(z2).real\n",
    "x = Markoff((a, np.array([1,0]) ))\n",
    "y = Markoff((z1, np.array([0,1]) ))\n",
    "z = Markoff((b, np.array([1,1]) ))\n",
    "\n",
    "tree((x,y,z), dd=0)\n",
    "\n",
    "y = Markoff((z2, np.array([0,-1]) ))\n",
    "z = Markoff((b, np.array([1,-1]) ))\n",
    "\n",
    "tree((x,y,z), dd=0)\n",
    "\n",
    "TT = [ n.m2v() for n in nums]\n",
    "TT = [v for v in TT if np.linalg.norm(v) < 20]\n",
    "XS, YS = zip(*TT)\n",
    "plt.plot(XS,YS,'r.')\n",
    "TT = [ -v for v in TT]\n",
    "XS, YS = zip(*TT)\n",
    "plt.plot(XS,YS,'b.')\n"
   ]
  },
  {
   "cell_type": "code",
   "execution_count": 111,
   "metadata": {
    "collapsed": true
   },
   "outputs": [],
   "source": [
    "import matplotlib.pyplot as plt\n",
    "%matplotlib inline"
   ]
  },
  {
   "cell_type": "code",
   "execution_count": 174,
   "metadata": {
    "collapsed": true
   },
   "outputs": [],
   "source": [
    "def calc_z(x,y):\n",
    "    xy = x*y\n",
    "    #np.sqrt works for cplx\n",
    "    delta = np.sqrt((xy)**2 - 4*(x**2 + y**2))\n",
    "    return .5*(xy - delta ), .5*(xy + delta )"
   ]
  },
  {
   "cell_type": "code",
   "execution_count": 170,
   "metadata": {},
   "outputs": [
    {
     "data": {
      "text/plain": [
       "(2.6833752096446002, 9.3166247903553998)"
      ]
     },
     "execution_count": 170,
     "metadata": {},
     "output_type": "execute_result"
    }
   ],
   "source": [
    "calc_z(3,4)"
   ]
  },
  {
   "cell_type": "code",
   "execution_count": 173,
   "metadata": {},
   "outputs": [
    {
     "data": {
      "text/plain": [
       "(0.70710678118654757+0.70710678118654746j)"
      ]
     },
     "execution_count": 173,
     "metadata": {},
     "output_type": "execute_result"
    }
   ],
   "source": []
  },
  {
   "cell_type": "code",
   "execution_count": 311,
   "metadata": {},
   "outputs": [
    {
     "name": "stdout",
     "output_type": "stream",
     "text": [
      "deque([(3+0j), (1.3999999999999995-1.2j), (2.8059712788546918-4.7746252615359346j)])\n",
      "deque([(3+0j), (1.3999999999999995-1.2j), (1.3940287211453066+1.1746252615359349j)])\n",
      "deque([(1.3999999999999995-1.2j), (1.3940287211453066+1.1746252615359349j), (0.36119052344655023-0.028359099224059658j)])\n"
     ]
    }
   ],
   "source": [
    "from collections import deque\n",
    "#because deque has a rotate=roll method\n",
    "\n",
    "def find_short(x):\n",
    "    mm = max([acosh(t).real for t in x])\n",
    "    print x\n",
    "    for i in range(3):\n",
    "        y = x[0]*x[1] - x[2]\n",
    "        if abs(acosh(y).real) < mm:\n",
    "            x[2] = y\n",
    "            return find_short(x)\n",
    "        x.rotate(1)\n",
    "    else:\n",
    "        return x\n",
    "    \n",
    "a = 3 + 0J\n",
    "z1, z2 = calc_z(a,b)  \n",
    "        \n",
    "a,b,c = find_short(deque([a,b,z2]))"
   ]
  },
  {
   "cell_type": "code",
   "execution_count": 263,
   "metadata": {
    "collapsed": true
   },
   "outputs": [],
   "source": [
    "def L(pt):\n",
    "    x,y,z = pt\n",
    "    return (z,y,y*z - x)\n",
    "\n",
    "def R(pt):\n",
    "    x,y,z = pt\n",
    "    return (x,z,x*z - y)\n",
    "\n",
    "def MM(pt):\n",
    "    F = [L,R,L,R]\n",
    "    for f in F:\n",
    "        pt = f(pt)\n",
    "    return pt[2]\n",
    "\n",
    "ts = 1J*np.linspace(0,2*np.pi,5)[:-1]\n",
    "diffs = .05*np.exp(ts)\n"
   ]
  },
  {
   "cell_type": "code",
   "execution_count": 299,
   "metadata": {
    "collapsed": true
   },
   "outputs": [],
   "source": [
    "a,b = 3.,3.\n",
    "\n",
    "for k in range(20):\n",
    "    vv = []\n",
    "    for dz in diffs:\n",
    "        bb = b + dz\n",
    "        z1, z2 = calc_z(a, bb)\n",
    "        res  = MM((a, bb, z1) )\n",
    "        vv.append( ( abs(acosh(res).real), bb) )\n",
    "    b = min(vv)[1]\n",
    "    "
   ]
  },
  {
   "cell_type": "code",
   "execution_count": 307,
   "metadata": {},
   "outputs": [
    {
     "data": {
      "text/plain": [
       "(1.3999999999999995-1.2j)"
      ]
     },
     "execution_count": 307,
     "metadata": {},
     "output_type": "execute_result"
    }
   ],
   "source": [
    "b"
   ]
  },
  {
   "cell_type": "code",
   "execution_count": 301,
   "metadata": {},
   "outputs": [
    {
     "data": {
      "text/plain": [
       "[(0.19213856479571884, (1.5999999999999994-1.3999999999999999j)),\n",
       " (1.0887562838497102, (1.3999999999999995-1.2j)),\n",
       " (0.40986102064596242, (1.1999999999999995-1.3999999999999999j)),\n",
       " (0.24778282754077791, (1.3999999999999995-1.5999999999999999j))]"
      ]
     },
     "execution_count": 301,
     "metadata": {},
     "output_type": "execute_result"
    }
   ],
   "source": [
    "vv"
   ]
  },
  {
   "cell_type": "code",
   "execution_count": 306,
   "metadata": {
    "collapsed": true
   },
   "outputs": [],
   "source": [
    "b = vv[1][1]"
   ]
  },
  {
   "cell_type": "code",
   "execution_count": null,
   "metadata": {
    "collapsed": true
   },
   "outputs": [],
   "source": []
  }
 ],
 "metadata": {
  "kernelspec": {
   "display_name": "Python 2",
   "language": "python",
   "name": "python2"
  },
  "language_info": {
   "codemirror_mode": {
    "name": "ipython",
    "version": 2
   },
   "file_extension": ".py",
   "mimetype": "text/x-python",
   "name": "python",
   "nbconvert_exporter": "python",
   "pygments_lexer": "ipython2",
   "version": "2.7.13"
  }
 },
 "nbformat": 4,
 "nbformat_minor": 2
}
