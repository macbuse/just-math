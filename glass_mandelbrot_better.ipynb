{
 "cells": [
  {
   "cell_type": "markdown",
   "metadata": {},
   "source": [
    "# Mandelbrot's poisoned chalice\n",
    "\n",
    "This is a shameless ripoff of an idea of Gabriel and Bernat\n",
    "who used [chimera](https://www.cgl.ucsf.edu/chimera/)\n",
    "to get an STL file from a multi image TIFF by stacking layers of voxels.\n",
    "Below we build a TIFF for importing in Chimera.\n",
    "\n",
    "\n",
    "Each level set is a Julia set with the corresponding $c$\n",
    "in $f_c(z) = z^2 + c$ either:\n",
    "\n",
    "- on a semicircle of radius  $\\frac14$ centered at $0$\n",
    "- on a segment between $-\\frac14$ and $0$\n",
    "\n",
    "\n",
    "Theoretically we can use Chimera directly from a notebook\n",
    "with [this package](https://pypi.org/project/pychimera/0.1.11/)\n",
    "but it only works with python 2.7 and I'm tired of building environments.\n"
   ]
  },
  {
   "cell_type": "markdown",
   "metadata": {},
   "source": [
    "![chalice](./chalice.png)\n",
    "\n",
    "if the image doesn't load [click here](https://github.com/macbuse/just-math/blob/master/chalice.png)\n",
    "\n",
    "![chalice](./chalice2.jpg)"
   ]
  },
  {
   "cell_type": "code",
   "execution_count": 1,
   "metadata": {},
   "outputs": [],
   "source": [
    "import matplotlib.pyplot as plt\n",
    "import numpy as np \n",
    "import imageio \n",
    "\n",
    "# I might run this in notebook and not lab so\n",
    "%matplotlib inline\n",
    "# skimage is sensitive about letting u import so....\n",
    "from skimage.transform import resize, rotate\n",
    "\n",
    "def mk_gif(frames, fn='weather.gif', duration=.3):\n",
    "    with imageio.get_writer(fn, mode='I',duration=duration) as writer:\n",
    "        for frame in frames:\n",
    "            if frame is None: continue\n",
    "            writer.append_data(frame)\n",
    "            "
   ]
  },
  {
   "cell_type": "markdown",
   "metadata": {},
   "source": [
    "# Building the profile and a path in the Mandelbrot set\n",
    "\n",
    "I gave up hand coding  the profile by hand and \n",
    "\n",
    "- wrote an extension  for **Inkscape** to export the SVG path \n",
    "- which is parsed  to an object with a parameterised 2D path\n",
    "- which I can interpolate to get level sets"
   ]
  },
  {
   "cell_type": "code",
   "execution_count": 2,
   "metadata": {},
   "outputs": [],
   "source": [
    "import json, os\n",
    "\n",
    "fn = os.environ['HOME'] + '/cubic_bezier.json'\n",
    "with open(fn,'r') as fp:\n",
    "    data = json.load(fp)\n",
    "   "
   ]
  },
  {
   "cell_type": "code",
   "execution_count": 352,
   "metadata": {},
   "outputs": [
    {
     "data": {
      "text/plain": [
       "1.0"
      ]
     },
     "execution_count": 352,
     "metadata": {},
     "output_type": "execute_result"
    },
    {
     "data": {
      "image/png": "[encoded data removed]",
      "text/plain": [
       "<Figure size 360x360 with 1 Axes>"
      ]
     },
     "metadata": {
      "needs_background": "light"
     },
     "output_type": "display_data"
    }
   ],
   "source": [
    "from svgpathtools import  parse_path\n",
    "\n",
    "pth = data['svg']\n",
    "pth = pth.replace(',', ' ')\n",
    "bez = parse_path(pth)\n",
    "\n",
    "\n",
    "num_layers = 150\n",
    "T = np.linspace(0,1,num_layers)\n",
    "myPath = [bez.point(t) for t in T]\n",
    "\n",
    "\n",
    "X, Y = list(zip(* [(z.real,-z.imag) for z in reversed(myPath)] ))\n",
    "X, Y = np.array(X), np.array(Y)\n",
    "\n",
    "ff = abs((max(Y) - min(Y)) /(max(X) - min(X)))\n",
    "# comment the next line out to see the design as is\n",
    "ff = 1.\n",
    "Y = (Y - min(Y))\n",
    "Y =  Y/max(Y)\n",
    "X = 1.04 - X/max(X)\n",
    "X /= max(X)\n",
    "            \n",
    "R = [np.interp(t,Y,X) for t in T]\n",
    "\n",
    "fig = plt.figure(figsize=(5,5))\n",
    "ax = fig.add_subplot(111)\n",
    "ax.set_aspect(1) \n",
    "\n",
    "ax.plot([-r for r in R], ff*T, 'r.')\n",
    "ax.plot(R, ff*T, 'b.')\n",
    "\n",
    "ff\n"
   ]
  },
  {
   "cell_type": "markdown",
   "metadata": {},
   "source": [
    "![glass2.png](glass2.png)"
   ]
  },
  {
   "cell_type": "markdown",
   "metadata": {},
   "source": [
    "# Let's improve the Julia sets we use\n"
   ]
  },
  {
   "cell_type": "code",
   "execution_count": 346,
   "metadata": {},
   "outputs": [
    {
     "data": {
      "text/plain": [
       "[<matplotlib.lines.Line2D at 0x7c5210a1c908>]"
      ]
     },
     "execution_count": 346,
     "metadata": {},
     "output_type": "execute_result"
    },
    {
     "data": {
      "image/png": "[encoded data removed]",
      "text/plain": [
       "<Figure size 432x288 with 1 Axes>"
      ]
     },
     "metadata": {
      "needs_background": "light"
     },
     "output_type": "display_data"
    }
   ],
   "source": [
    "equator = .75\n",
    "bottom = 0.4\n",
    "base = 0\n",
    "\n",
    "trans = .5*(equator + base)\n",
    "\n",
    "def path_in_mandelbrot(t):\n",
    "    \n",
    "    def cardiod(z):\n",
    "        return .5*z*(1-.5*z)\n",
    "        \n",
    "    if t < base:\n",
    "        return .25\n",
    "\n",
    "    if  t < trans : \n",
    "        tt = (t - base)/(trans-base)\n",
    "        z = np.exp(np.pi*tt*1J)\n",
    "        return cardiod(z)\n",
    "    \n",
    "    tt = (t - trans)/(1 - trans)\n",
    "    return cardiod(-1)*(1 - tt) \n",
    "\n",
    "def z2pt(z):\n",
    "    x =  z.real*256 + 1024/3*2\n",
    "    y = z.imag*256 +256 \n",
    "    return x,y\n",
    "\n",
    "plt.imshow(image)\n",
    "U,V = list(zip(* [z2pt(path_in_mandelbrot(t) ) for t in T]))\n",
    "plt.plot(U,V,'rx')\n"
   ]
  },
  {
   "cell_type": "markdown",
   "metadata": {},
   "source": [
    "# Code I had lying around \n",
    "\n",
    "this does the Mandelbrot set but you can get Julia sets by  a couple of small mods"
   ]
  },
  {
   "cell_type": "code",
   "execution_count": 21,
   "metadata": {},
   "outputs": [
    {
     "data": {
      "image/png": "[encoded data removed]",
      "text/plain": [
       "<Figure size 432x288 with 1 Axes>"
      ]
     },
     "metadata": {
      "needs_background": "light"
     },
     "output_type": "display_data"
    }
   ],
   "source": [
    "npts = 512\n",
    "max_iter = 20\n",
    "\n",
    "X = np.linspace(-2, 1, 2*npts)\n",
    "Y = np.linspace(-1, 1, npts)\n",
    "\n",
    "#broadcast the xs to a square array\n",
    "C = X[:, None] + 1J*Y\n",
    "#initial value is always zero\n",
    "Z = np.zeros_like(C)\n",
    "\n",
    "exit_times = max_iter * np.ones(C.shape, np.int8)\n",
    "mask = exit_times > 0\n",
    "\n",
    "for k in range(max_iter):\n",
    "    Z[mask] = Z[mask] * Z[mask] + C[mask]\n",
    "    mask, old_mask = abs(Z) < 2, mask\n",
    "    #use XOR to detect the area which has changed \n",
    "    exit_times[mask ^ old_mask] = k\n",
    "    \n",
    "#r,g,b layers are all the same\n",
    "image = np.stack((exit_times,)*3).T\n",
    "#choose a coloring scheme now\n",
    "image = 1 - image/max_iter\n",
    "\n",
    "u = plt.imshow(image)\n",
    "    "
   ]
  },
  {
   "cell_type": "markdown",
   "metadata": {},
   "source": [
    "# Modded code\n",
    "\n",
    "we need the Julia set code as a function to run on the path in the Mandelbrot set"
   ]
  },
  {
   "cell_type": "code",
   "execution_count": 332,
   "metadata": {},
   "outputs": [],
   "source": [
    "def julia(C,\n",
    "    npts = 512,\n",
    "    max_iter = 20):\n",
    "\n",
    "    X = np.linspace(-2, 2, npts)\n",
    "    Y = np.linspace(-2, 2, npts)\n",
    "    #broadcast the xs to a square array\n",
    "    Z = X[:, None] + 1J*Y\n",
    "\n",
    "    exit_times =  255 - np.zeros(Z.shape, np.uint8)\n",
    "    mask = exit_times > 0\n",
    "\n",
    "    for k in range(max_iter):\n",
    "        Z[mask] = Z[mask] * Z[mask] + C\n",
    "        mask = abs(Z) < 2\n",
    "        exit_times[ np.logical_not(mask) ] = 0\n",
    "    \n",
    "    return exit_times\n",
    "    \n",
    "\n",
    "frames = [julia(.8*path_in_mandelbrot(t)) for t in T ]"
   ]
  },
  {
   "cell_type": "code",
   "execution_count": 333,
   "metadata": {},
   "outputs": [
    {
     "data": {
      "text/plain": [
       "<matplotlib.image.AxesImage at 0x7c5210aa3e80>"
      ]
     },
     "execution_count": 333,
     "metadata": {},
     "output_type": "execute_result"
    },
    {
     "data": {
      "image/png": "[encoded data removed]",
      "text/plain": [
       "<Figure size 432x288 with 1 Axes>"
      ]
     },
     "metadata": {
      "needs_background": "light"
     },
     "output_type": "display_data"
    }
   ],
   "source": [
    "plt.imshow(frames[20])"
   ]
  },
  {
   "cell_type": "markdown",
   "metadata": {},
   "source": [
    "# Now we need to do some post processing\n",
    "\n",
    "resizing and a little rotation to get texture"
   ]
  },
  {
   "cell_type": "code",
   "execution_count": 323,
   "metadata": {},
   "outputs": [],
   "source": [
    "def rebox(im,\n",
    "          ss=.5,\n",
    "          rr=10):\n",
    "\n",
    "    '''change size and rotate a square image\n",
    "    insert in the middle of a black image \n",
    "    of the same size as original'''\n",
    "    \n",
    "    sx, sy = im.shape\n",
    "    \n",
    "    #so I want to stay in uint8 so I preserve range\n",
    "    layer = resize(im, (int(sx*ss), int(sy*ss)),  preserve_range=True)\n",
    "    \n",
    "    layer = rotate(layer, rr)\n",
    "    \n",
    "    dx, dy = layer.shape\n",
    "    cx = sx//2 -  dx//2\n",
    "    \n",
    "    blk = np.zeros_like(im)\n",
    "    #glue it in there baby\n",
    "    blk[cx:cx + dx, cx:cx + dx] = layer[:]  \n",
    "    im = np.stack((blk,)*3).T\n",
    "    return im\n",
    "          \n"
   ]
  },
  {
   "cell_type": "markdown",
   "metadata": {},
   "source": [
    "## Output\n",
    "\n",
    "we need to pad out the base so that it is solid\n",
    "and save to a multi image TIFF\n",
    "\n",
    "So I updated scikit image and all hell broke loose\n",
    "but it turns out to be something stupid with the number of pages"
   ]
  },
  {
   "cell_type": "code",
   "execution_count": 336,
   "metadata": {},
   "outputs": [],
   "source": [
    "ims = [ rebox(ff,r) for ff,r in zip(frames,R)]"
   ]
  },
  {
   "cell_type": "markdown",
   "metadata": {},
   "source": [
    "# Warning\n",
    "\n",
    "### fecking Chimera doesn't detect the number of pages/slices so you should set it fom this"
   ]
  },
  {
   "cell_type": "code",
   "execution_count": 341,
   "metadata": {},
   "outputs": [
    {
     "data": {
      "text/plain": [
       "150"
      ]
     },
     "execution_count": 341,
     "metadata": {},
     "output_type": "execute_result"
    }
   ],
   "source": [
    "len(ims)"
   ]
  },
  {
   "cell_type": "markdown",
   "metadata": {},
   "source": [
    "### to get a rough idea of what's going on"
   ]
  },
  {
   "cell_type": "code",
   "execution_count": 343,
   "metadata": {},
   "outputs": [],
   "source": [
    "imageio.mimwrite('pp.gif',ims)"
   ]
  },
  {
   "cell_type": "markdown",
   "metadata": {},
   "source": [
    "### and output for chimera to process\n"
   ]
  },
  {
   "cell_type": "markdown",
   "metadata": {},
   "source": [
    "imageio.mimwrite('glass3.tiff', ims,format='TIFF')"
   ]
  },
  {
   "cell_type": "code",
   "execution_count": null,
   "metadata": {},
   "outputs": [],
   "source": []
  },
  {
   "cell_type": "code",
   "execution_count": null,
   "metadata": {},
   "outputs": [],
   "source": []
  }
 ],
 "metadata": {
  "kernelspec": {
   "display_name": "Python 3",
   "language": "python",
   "name": "python3"
  },
  "language_info": {
   "codemirror_mode": {
    "name": "ipython",
    "version": 3
   },
   "file_extension": ".py",
   "mimetype": "text/x-python",
   "name": "python",
   "nbconvert_exporter": "python",
   "pygments_lexer": "ipython3",
   "version": "3.6.5"
  }
 },
 "nbformat": 4,
 "nbformat_minor": 2
}
